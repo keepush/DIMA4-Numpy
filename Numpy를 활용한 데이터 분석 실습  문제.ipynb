{
 "cells": [
  {
   "cell_type": "markdown",
   "metadata": {},
   "source": [
    "# [문제] BMI 지수 계산 및 과체중 이상인 BMI 값 확인\n",
    "- 10명에 대한 키와 몸무게가 들어있는 'height_weight.txt'를 읽어 각 사람별 BMI 지수를 구하고 비만 전단계 이상인 BMI 값 확인하기\n",
    "\n",
    "<pre>\n",
    " BMI 지수 = 몸무게(kg) / 키(M)의 제곱\n",
    " 체질량지수의 범위 값에 따른 비만도 값 지정\n",
    " 18.5 미만 ▶ 저체중\n",
    " 18.5 ~ 22.9 ▶ 정상\n",
    " 23 ~ 24.9 ▶ 비만 전단계\n",
    " 25 ~ 29 ▶ 1단계 비만\n",
    " 30 ~ 34.9 ▶ 2단계 비만\n",
    " 35이상 ▶ 고도비만\n",
    "</pre>"
   ]
  },
  {
   "cell_type": "code",
   "execution_count": 2,
   "metadata": {},
   "outputs": [],
   "source": [
    "import numpy as np\n",
    "\n",
    "# 데이터 로딩\n",
    "data = np.loadtxt('height_weight.txt', delimiter=',', dtype=float)\n",
    "\n",
    "\n",
    "weight = data[1]\n",
    "height = data[0] / 100"
   ]
  },
  {
   "cell_type": "code",
   "execution_count": 3,
   "metadata": {},
   "outputs": [
    {
     "name": "stdout",
     "output_type": "stream",
     "text": [
      "[16.03543423]\n",
      "[21.37153104 27.07018468 25.86122449 24.20652885 20.14486193 23.14392095\n",
      " 21.69720651 23.62028791 25.59220998]\n",
      "[27.07018468 25.86122449 24.20652885 23.14392095 23.62028791 25.59220998]\n"
     ]
    },
    {
     "ename": "ValueError",
     "evalue": "The truth value of an array with more than one element is ambiguous. Use a.any() or a.all()",
     "output_type": "error",
     "traceback": [
      "\u001b[1;31m---------------------------------------------------------------------------\u001b[0m",
      "\u001b[1;31mValueError\u001b[0m                                Traceback (most recent call last)",
      "Cell \u001b[1;32mIn[3], line 6\u001b[0m\n\u001b[0;32m      4\u001b[0m \u001b[38;5;28mprint\u001b[39m(BMI[\u001b[38;5;241m18.5\u001b[39m \u001b[38;5;241m<\u001b[39m\u001b[38;5;241m=\u001b[39m BMI])\n\u001b[0;32m      5\u001b[0m \u001b[38;5;28mprint\u001b[39m(BMI[\u001b[38;5;241m23\u001b[39m\u001b[38;5;241m<\u001b[39m\u001b[38;5;241m=\u001b[39m BMI])\n\u001b[1;32m----> 6\u001b[0m \u001b[38;5;28mprint\u001b[39m(BMI[\u001b[38;5;241m25\u001b[39m \u001b[38;5;241m<\u001b[39m\u001b[38;5;241m=\u001b[39m BMI \u001b[38;5;241m<\u001b[39m\u001b[38;5;241m=\u001b[39m \u001b[38;5;241m29\u001b[39m])\n\u001b[0;32m      7\u001b[0m \u001b[38;5;28mprint\u001b[39m(BMI[\u001b[38;5;241m30\u001b[39m \u001b[38;5;241m<\u001b[39m\u001b[38;5;241m=\u001b[39m BMI \u001b[38;5;241m<\u001b[39m\u001b[38;5;241m=\u001b[39m \u001b[38;5;241m34.9\u001b[39m])\n\u001b[0;32m      8\u001b[0m \u001b[38;5;28mprint\u001b[39m(BMI[\u001b[38;5;241m35\u001b[39m \u001b[38;5;241m<\u001b[39m\u001b[38;5;241m=\u001b[39m BMI])\n",
      "\u001b[1;31mValueError\u001b[0m: The truth value of an array with more than one element is ambiguous. Use a.any() or a.all()"
     ]
    }
   ],
   "source": [
    "BMI = weight / height ** 2  # np.divide(weight, squared_height)\n",
    "\n",
    "print(BMI[BMI < 18.5])\n",
    "print(BMI[18.5 <= BMI])\n",
    "print(BMI[23<= BMI])\n",
    "print(BMI[25 <= BMI <= 29])\n",
    "print(BMI[30 <= BMI <= 34.9])\n",
    "print(BMI[35 <= BMI])"
   ]
  },
  {
   "cell_type": "markdown",
   "metadata": {},
   "source": [
    "# [문제] 국가건강검진 혈압혈당 데이터 분석\n",
    "\n",
    "* '국가건강검진_혈압혈당데이터.csv' 파일 내용을 읽기\n",
    "    - 성별: 1(남자), 2(여자)\n",
    "    - 연령그룹: 1(20-24), 2(25-26),...25-74세까지 2살 간격으로 1개 그룹으로 지정, 27(74세 이상)\n",
    "    - 고혈압 당뇨병 진료여부: 1(고혈압 및 당뇨진료내역 있음), 2(고혈압 진료내역 있음), 3(당뇨 진료내역 있음), 4(고혈압 및 당뇨 진료내역 없음)\n",
    "    - 정상혈압: 수축기 혈압 120nnHg 미만, 이완기 혈압 80mmHg 미만\n",
    "    - 공복혈당 수치: 126 mg/dL 이상 -> 당뇨병, 100mg/dL-> 정상\n",
    "* 전체 레코드 수와 상위 5개 데이터 확인\n",
    "* 데이터 모양 확인\n",
    "* 여성과 남성의 데이터 수 확인\n",
    "* 여성과 남성의 수축기혈압과 이완기혈압의 평균값 확인\n",
    "* 정상 혈압 남자 및 여자 수 확인\n",
    "* 당뇨병 질환(공복혈당 수치 126mg/dL 이상)을 가지고 있는 사람들의 평균 체질량지수"
   ]
  },
  {
   "cell_type": "code",
   "execution_count": 92,
   "metadata": {},
   "outputs": [],
   "source": [
    "import numpy as np\n",
    "\n",
    "# 데이터 로드\n",
    "data = np.loadtxt(\"국가건강검진_혈압혈당데이터.csv\", delimiter=\",\", skiprows=1)"
   ]
  },
  {
   "cell_type": "code",
   "execution_count": 89,
   "metadata": {},
   "outputs": [
    {
     "name": "stdout",
     "output_type": "stream",
     "text": [
      "1000000\n",
      "[[  1.    1.  116.   78.   94.    4.   16.6]\n",
      " [  1.    1.  100.   60.   79.    4.   22.3]\n",
      " [  1.    1.  100.   60.   87.    4.   21.9]\n",
      " [  1.    1.  111.   70.   72.    4.   20.2]\n",
      " [  1.    1.  120.   80.   98.    4.   20. ]]\n",
      "(1000000, 7)\n"
     ]
    }
   ],
   "source": [
    "print(data.shape[0])  # = print(len(data))\n",
    "print(data[0:5])\n",
    "\n",
    "print(data.shape)"
   ]
  },
  {
   "cell_type": "code",
   "execution_count": 90,
   "metadata": {},
   "outputs": [
    {
     "name": "stdout",
     "output_type": "stream",
     "text": [
      "성별 값:  [1. 2.]\n",
      "고혈압 당뇨병 진료여부 값:  [1. 2. 3. 4.]\n"
     ]
    }
   ],
   "source": [
    "# 각 컬럼별 유니크 값 확인\n",
    "print('성별 값: ', np.unique(data[:,0]))\n",
    "print('고혈압 당뇨병 진료여부 값: ', np.unique(data[:,5]))"
   ]
  },
  {
   "cell_type": "code",
   "execution_count": 91,
   "metadata": {},
   "outputs": [
    {
     "name": "stdout",
     "output_type": "stream",
     "text": [
      "남성 데이터 수: 510,227\n",
      "여성 데이터 수: 489,773\n"
     ]
    }
   ],
   "source": [
    "# 여성과 남성의 데이터 수 확인\n",
    "# print(data[:,0] == 1)\n",
    "print(f'남성 데이터 수: {np.sum(data[:,0]==1):,}')\n",
    "# print(f'남성 데이터 수: {len(data[data[:,0]==1])}개')\n",
    "print(f'여성 데이터 수: {np.sum(data[:,0]==2):,}')"
   ]
  },
  {
   "cell_type": "code",
   "execution_count": 98,
   "metadata": {},
   "outputs": [
    {
     "name": "stdout",
     "output_type": "stream",
     "text": [
      "남성의 수축기 평균 혈압: 124.28\n",
      "남성의 이완기 평균 혈압: 77.61\n",
      "여성의 수축기 평균 혈압: 119.36\n",
      "여성의 이완기 평균 혈압: 73.88\n"
     ]
    }
   ],
   "source": [
    "# 여성과 남성의 수축기혈압과 이완기혈압의 평균값 확인\n",
    "# 수축기혈압: SBP, 이완기혈압; DBP\n",
    "# 두 번 인덱싱\n",
    "male_sbp_mean = np.mean(data[data[:,0]==1][:,2])\n",
    "print(f'남성의 수축기 평균 혈압: {male_sbp_mean:.2f}')\n",
    "male_dbp_mean = np.mean(data[data[:,0]==1][:,3])\n",
    "print(f'남성의 이완기 평균 혈압: {male_dbp_mean:.2f}')\n",
    "female_sbp_mean = np.mean(data[data[:,0]==2][:,2])\n",
    "print(f'여성의 수축기 평균 혈압: {female_sbp_mean:.2f}')\n",
    "female_dbp_mean = np.mean(data[data[:,0]==2][:,3])\n",
    "print(f'여성의 이완기 평균 혈압: {female_dbp_mean:.2f}')"
   ]
  },
  {
   "cell_type": "code",
   "execution_count": 104,
   "metadata": {},
   "outputs": [
    {
     "name": "stdout",
     "output_type": "stream",
     "text": [
      "정상 혈압 남자 수: 158007\n",
      "정상 혈압 여자 수: 230707\n"
     ]
    }
   ],
   "source": [
    "# 정상 혈압 남자 및 여자 수 확인\n",
    "normal_bp = np.logical_and(data[:,2] < 120, data[:,3] < 80)    # 3개 비교하려면 logical_and 안에 또 logical_and 삽입\n",
    "nbp = data[normal_bp]\n",
    "print('정상 혈압 남자 수:', len(nbp[nbp[:,0]==1]))\n",
    "print('정상 혈압 여자 수:', len(nbp[nbp[:,0]==2]))"
   ]
  },
  {
   "cell_type": "code",
   "execution_count": 107,
   "metadata": {},
   "outputs": [
    {
     "name": "stdout",
     "output_type": "stream",
     "text": [
      "25.168695210981763\n"
     ]
    }
   ],
   "source": [
    "# 당뇨병 질환(공복혈당 수치 126mg/dL 이상)을 가지고 있는 사람들의 평균 체질량지수\n",
    "diabetes = data[data[:,4] >= 126]\n",
    "print(np.mean(diabetes[:,6]))"
   ]
  },
  {
   "cell_type": "markdown",
   "metadata": {},
   "source": [
    "# [문제] 시에틀 강수량 데이터 분석\n",
    "- 'Seattle2014.csv' 파일 내용 읽기\n",
    "- 강수량('PRCP')이 많은 날 상위 10일 확인\n",
    "- 1월 강수량만 출력\n",
    "- 1월에 내린 강수량의 합, 평균강수량 확인\n",
    "- 1년동안 강수량이 40미만으로 내린 날이 몇일인가?"
   ]
  },
  {
   "cell_type": "code",
   "execution_count": 39,
   "metadata": {},
   "outputs": [
    {
     "name": "stdout",
     "output_type": "stream",
     "text": [
      "[[20140305      467]\n",
      " [20141128      343]\n",
      " [20140503      333]\n",
      " [20140308      323]\n",
      " [20141022      320]\n",
      " [20140316      277]\n",
      " [20140216      264]\n",
      " [20141030      254]\n",
      " [20140328      221]\n",
      " [20140129      216]]\n"
     ]
    }
   ],
   "source": [
    "import numpy as np\n",
    "\n",
    "# 데이터 로드\n",
    "data = np.loadtxt(\"Seattle2014.csv\", delimiter=\",\", dtype=object, skiprows=1)\n",
    "\n",
    "# 강수량('PRCP')이 많은 날 상위 10일 확인\n",
    "RPCP = data[:,[2,3]].astype('int32')\n",
    "print(RPCP[RPCP[:,1].argsort()][::-1][:10])\n",
    "# m_rain = np.sort(RPCP)[::-1][:10]\n",
    "# print(m_rain)"
   ]
  },
  {
   "cell_type": "code",
   "execution_count": 56,
   "metadata": {},
   "outputs": [
    {
     "name": "stdout",
     "output_type": "stream",
     "text": [
      "[  0  41  15   0   0   3 122  97  58  43 213  15   0   0   0   0   0   0\n",
      "   0   0   0   5   0   0   0   0   0  89 216   0  23]\n",
      "------------------------------\n",
      "[  0  41  15   0   0   3 122  97  58  43 213  15   0   0   0   0   0   0\n",
      "   0   0   0   5   0   0   0   0   0  89 216   0  23]\n",
      "------------------------------\n",
      "[  0  41  15   0   0   3 122  97  58  43 213  15   0   0   0   0   0   0\n",
      "   0   0   0   5   0   0   0   0   0  89 216   0  23]\n",
      "------------------------------\n",
      "[  0  41  15   0   0   3 122  97  58  43 213  15   0   0   0   0   0   0\n",
      "   0   0   0   5   0   0   0   0   0  89 216   0  23]\n"
     ]
    }
   ],
   "source": [
    "# 1월 강수량만 출력 - 방법1\n",
    "print(data[:31][:,3].astype(int))\n",
    "print('-'*30)\n",
    "\n",
    "# 1월 수량만 출력 - 방법2\n",
    "prcp_data = data[:,[2,3]].astype(int)\n",
    "jan_prcp_data = prcp_data[prcp_data[:,0] < 20140201]\n",
    "print(jan_prcp_data[:,1])\n",
    "print('-'*30)\n",
    "\n",
    "# 1월 강수량만 출력 - 방법 3\n",
    "prcp_data2 = data[:,[2,3]].astype(int)\n",
    "prcp_data2[:,0] = (prcp_data2[:,0] - 20140000) // 100\n",
    "# print(prcp_data[:40])\n",
    "jan_prcp_data2 = prcp_data2[prcp_data2[:,0]==1][:,1]\n",
    "print(jan_prcp_data2)\n",
    "print('-'*30)\n",
    "\n",
    "# 1월 강수량만 출력 - 방법 4\n",
    "prcp_data3 = data[:,[2,3]]\n",
    "prcp_data3 = np.array([[date[4:6], prcp] for date, prcp in prcp_data3])\n",
    "# print(prcp_data3[:40])\n",
    "jan_prcp_data3 = prcp_data3[prcp_data3[:,0] == '01'][:,1].astype(int)\n",
    "print(jan_prcp_data3)"
   ]
  },
  {
   "cell_type": "code",
   "execution_count": 57,
   "metadata": {},
   "outputs": [
    {
     "name": "stdout",
     "output_type": "stream",
     "text": [
      "1월 강수량:  ['0' '41' '15' '0' '0' '3' '122' '97' '58' '43' '213' '15' '0' '0' '0' '0'\n",
      " '0' '0' '0' '0' '0' '5' '0' '0' '0' '0' '0' '89' '216' '0' '23']\n"
     ]
    }
   ],
   "source": [
    "# 1월 강수량만 출력\n",
    "month = data[data[:,2].astype(int) < 20140200]\n",
    "jan_PRCP = month[:,3]\n",
    "print('1월 강수량: ', jan_PRCP)"
   ]
  },
  {
   "cell_type": "code",
   "execution_count": 62,
   "metadata": {},
   "outputs": [
    {
     "name": "stdout",
     "output_type": "stream",
     "text": [
      "1월 강수량 합 940\n",
      "1월 평균강수량 30.322580645161292\n"
     ]
    }
   ],
   "source": [
    "# 1월에 내린 강수량의 합, 평균강수량 확인\n",
    "print('1월 강수량 합', np.sum(jan_PRCP.astype('int')))\n",
    "print('1월 평균강수량', np.mean(jan_PRCP.astype('int')))"
   ]
  },
  {
   "cell_type": "code",
   "execution_count": 63,
   "metadata": {},
   "outputs": [
    {
     "name": "stdout",
     "output_type": "stream",
     "text": [
      "277\n"
     ]
    }
   ],
   "source": [
    "# 1년동안 강수량이 40미만으로 내린 날이 몇일인가?\n",
    "prcp_data = data[:,3].astype(int)\n",
    "under_40 = prcp_data[prcp_data < 40]\n",
    "print(len(under_40))"
   ]
  },
  {
   "cell_type": "markdown",
   "metadata": {},
   "source": [
    "# [문제] 영화 평점 분석\n",
    "- 'ratings.dat' 파일 내용 읽기 (데이터 형식: user_id::item_id::rating::timestamp)\n",
    "- 상위 10개 데이터 출력하기\n",
    "- 데이터 정보 확인(크기, 차원)\n",
    "- 전체 데이터 평점 구하기\n",
    "- 사용자 아이디 1인 데이터 출력하기\n",
    "- 사용자 아이디 1인 사람의 평점 평균 구하기\n",
    "- 각 사용자별 평점 구하기 (사용자 ID 수집: ID컬럼에 대한 np.unique() 함수 적용)\n",
    "- 각 사용자별 평균 평점이 4점 이상인 사용자 및 인원수 구하기"
   ]
  },
  {
   "cell_type": "code",
   "execution_count": 111,
   "metadata": {},
   "outputs": [
    {
     "name": "stdout",
     "output_type": "stream",
     "text": [
      "[[        1      1193         5 978300760]\n",
      " [        1       661         3 978302109]\n",
      " [        1       914         3 978301968]\n",
      " [        1      3408         4 978300275]\n",
      " [        1      2355         5 978824291]\n",
      " [        1      1197         3 978302268]\n",
      " [        1      1287         5 978302039]\n",
      " [        1      2804         5 978300719]\n",
      " [        1       594         4 978302268]\n",
      " [        1       919         4 978301368]]\n",
      "(1000209, 4) 2\n"
     ]
    }
   ],
   "source": [
    "import numpy as np\n",
    "\n",
    "# 상위 10개 데이터 출력하기\n",
    "data = np.loadtxt('ratings.dat', delimiter=':', dtype=np.int64)\n",
    "print(data[:10])\n",
    "\n",
    "# 데이터 정보 확인(크기, 차원)\n",
    "print(data.shape, data.ndim)"
   ]
  },
  {
   "cell_type": "code",
   "execution_count": 112,
   "metadata": {},
   "outputs": [
    {
     "name": "stdout",
     "output_type": "stream",
     "text": [
      "전체 사용자 평균 평점: 3.58\n"
     ]
    }
   ],
   "source": [
    "# 전체 데이터 평균 평점 구하기\n",
    "rating = np.mean(data[:,2])\n",
    "print(f'전체 사용자 평균 평점: {rating:.2f}')"
   ]
  },
  {
   "cell_type": "code",
   "execution_count": 113,
   "metadata": {},
   "outputs": [
    {
     "name": "stdout",
     "output_type": "stream",
     "text": [
      "[[        1      1193         5 978300760]\n",
      " [        1       661         3 978302109]\n",
      " [        1       914         3 978301968]\n",
      " [        1      3408         4 978300275]\n",
      " [        1      2355         5 978824291]\n",
      " [        1      1197         3 978302268]\n",
      " [        1      1287         5 978302039]\n",
      " [        1      2804         5 978300719]\n",
      " [        1       594         4 978302268]\n",
      " [        1       919         4 978301368]\n",
      " [        1       595         5 978824268]\n",
      " [        1       938         4 978301752]\n",
      " [        1      2398         4 978302281]\n",
      " [        1      2918         4 978302124]\n",
      " [        1      1035         5 978301753]\n",
      " [        1      2791         4 978302188]\n",
      " [        1      2687         3 978824268]\n",
      " [        1      2018         4 978301777]\n",
      " [        1      3105         5 978301713]\n",
      " [        1      2797         4 978302039]\n",
      " [        1      2321         3 978302205]\n",
      " [        1       720         3 978300760]\n",
      " [        1      1270         5 978300055]\n",
      " [        1       527         5 978824195]\n",
      " [        1      2340         3 978300103]\n",
      " [        1        48         5 978824351]\n",
      " [        1      1097         4 978301953]\n",
      " [        1      1721         4 978300055]\n",
      " [        1      1545         4 978824139]\n",
      " [        1       745         3 978824268]\n",
      " [        1      2294         4 978824291]\n",
      " [        1      3186         4 978300019]\n",
      " [        1      1566         4 978824330]\n",
      " [        1       588         4 978824268]\n",
      " [        1      1907         4 978824330]\n",
      " [        1       783         4 978824291]\n",
      " [        1      1836         5 978300172]\n",
      " [        1      1022         5 978300055]\n",
      " [        1      2762         4 978302091]\n",
      " [        1       150         5 978301777]\n",
      " [        1         1         5 978824268]\n",
      " [        1      1961         5 978301590]\n",
      " [        1      1962         4 978301753]\n",
      " [        1      2692         4 978301570]\n",
      " [        1       260         4 978300760]\n",
      " [        1      1028         5 978301777]\n",
      " [        1      1029         5 978302205]\n",
      " [        1      1207         4 978300719]\n",
      " [        1      2028         5 978301619]\n",
      " [        1       531         4 978302149]\n",
      " [        1      3114         4 978302174]\n",
      " [        1       608         4 978301398]\n",
      " [        1      1246         4 978302091]]\n"
     ]
    }
   ],
   "source": [
    "# 사용자 아이디 1인 데이터 출력하기\n",
    "# user_id_1 = data[:,0] == 1\n",
    "# print(data[user_id_1])\n",
    "print(data[data[:,0] == 1])"
   ]
  },
  {
   "cell_type": "code",
   "execution_count": 115,
   "metadata": {},
   "outputs": [
    {
     "name": "stdout",
     "output_type": "stream",
     "text": [
      "user id 1인 사람의 평균 평점: 4.19\n"
     ]
    }
   ],
   "source": [
    "# 사용자 아이디 1인 사람의 평점 평균 구하기\n",
    "one_ratings = np.mean(data[data[:,0] == 1][:,2])\n",
    "# print(f'user id 1인 사람의 평균 평점: {np.mean(data[user_id_1][:,2]):.2f}')\n",
    "print(f'user id 1인 사람의 평균 평점: {one_ratings:.2f}')"
   ]
  },
  {
   "cell_type": "code",
   "execution_count": 116,
   "metadata": {},
   "outputs": [
    {
     "name": "stdout",
     "output_type": "stream",
     "text": [
      "전체 유저 수: 6,040명\n",
      "1 유저 평점: 4.19\n",
      "2 유저 평점: 3.71\n",
      "3 유저 평점: 3.90\n",
      "4 유저 평점: 4.19\n",
      "5 유저 평점: 3.15\n",
      "6 유저 평점: 3.90\n",
      "7 유저 평점: 4.32\n",
      "8 유저 평점: 3.88\n",
      "9 유저 평점: 3.74\n",
      "10 유저 평점: 4.11\n"
     ]
    }
   ],
   "source": [
    "# 각 사용자별 평균 평점 구하기 (사용자 ID 수집: ID컬럼에 대한 np.unique() 함수 적용)\n",
    "user_ids = np.unique(data[:,0])\n",
    "print(f'전체 유저 수: {len(user_ids):,}명')\n",
    "user_avg_rating = [[id, np.mean(data[data[:,0]==id][:,2])] for id in user_ids]\n",
    "for id, rating in user_avg_rating[:10]:\n",
    "    print(f'{id} 유저 평점: {rating:.2f}')\n",
    "# for i in user_ids:\n",
    "#     print(f'사용자 {i}의 평균 평점: {np.mean(data[data[:,0]==i][:,2]):.2f}')"
   ]
  },
  {
   "cell_type": "code",
   "execution_count": 119,
   "metadata": {},
   "outputs": [
    {
     "name": "stdout",
     "output_type": "stream",
     "text": [
      "평균 평점이 4점 이상인 유저 수: 1,544명\n"
     ]
    }
   ],
   "source": [
    "# 각 사용자별 평균 평점이 4점 이상인 사용자 및 인원수 구하기\n",
    "user_avg_rating = np.array(user_avg_rating)\n",
    "print(f'평균 평점이 4점 이상인 유저 수: {np.sum(user_avg_rating[:,1] >= 4):,}명')"
   ]
  }
 ],
 "metadata": {
  "kernelspec": {
   "display_name": "Python 3 (ipykernel)",
   "language": "python",
   "name": "python3"
  },
  "language_info": {
   "codemirror_mode": {
    "name": "ipython",
    "version": 3
   },
   "file_extension": ".py",
   "mimetype": "text/x-python",
   "name": "python",
   "nbconvert_exporter": "python",
   "pygments_lexer": "ipython3",
   "version": "3.11.7"
  },
  "toc": {
   "base_numbering": 1,
   "nav_menu": {},
   "number_sections": true,
   "sideBar": true,
   "skip_h1_title": false,
   "title_cell": "Table of Contents",
   "title_sidebar": "Contents",
   "toc_cell": false,
   "toc_position": {
    "height": "calc(100% - 180px)",
    "left": "10px",
    "top": "150px",
    "width": "236px"
   },
   "toc_section_display": true,
   "toc_window_display": false
  }
 },
 "nbformat": 4,
 "nbformat_minor": 4
}
