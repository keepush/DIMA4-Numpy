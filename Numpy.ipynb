{
 "cells": [
  {
   "cell_type": "markdown",
   "id": "91f292e0-e016-4bac-b546-edd99de3dfde",
   "metadata": {},
   "source": [
    "# 넘파이 개요"
   ]
  },
  {
   "cell_type": "markdown",
   "id": "edbd533d-a029-4f20-a03d-faa27fb40c5b",
   "metadata": {},
   "source": [
    "- Numerical Python의 약자\n",
    "- 고성능의 수치 해석용 python 라이브러리   # 파이썬에 비해 처리 속도가 빠르다\n",
    "- Numpy는 고성능 다차원 배열과 이런 배열을 처리하는 다양한 함수와 툴을 제공한다.\n",
    "- Matrix와 Vector와 같은 연산에 최적화 되어 있다.\n",
    "- 공식 사이트: http://www.numpy.org"
   ]
  },
  {
   "cell_type": "markdown",
   "id": "1f1ccd64-7fdb-4984-b0f1-37ba5ecb4340",
   "metadata": {},
   "source": [
    "# Python 다차원 배열의 이해"
   ]
  },
  {
   "cell_type": "markdown",
   "id": "5afa35ed-cc64-4948-b7a6-426d44da559b",
   "metadata": {},
   "source": [
    "## 숫자 자료형"
   ]
  },
  {
   "cell_type": "code",
   "execution_count": 1,
   "id": "9264c87e-369c-44db-9d21-d91e2b648fd6",
   "metadata": {},
   "outputs": [],
   "source": [
    "# 세 명의 학생의 수학 과목 점수 설정\n",
    "math1 = 11\n",
    "math2 = 22\n",
    "math3 = 33"
   ]
  },
  {
   "cell_type": "code",
   "execution_count": 2,
   "id": "24c68975-1d77-4406-96a1-7e10b323c320",
   "metadata": {},
   "outputs": [
    {
     "name": "stdout",
     "output_type": "stream",
     "text": [
      "수학 점수 합:66\n",
      "수학 점수 평균:22.00\n"
     ]
    }
   ],
   "source": [
    "# 합과 평균 구하기\n",
    "total = math1 + math2 + math3\n",
    "average = total / 3\n",
    "print(f'수학 점수 합:{total}')\n",
    "print(f'수학 점수 평균:{average:.2f}')"
   ]
  },
  {
   "cell_type": "code",
   "execution_count": 3,
   "id": "d3ca27d4-6fa8-433c-8d52-afdf97dc0c01",
   "metadata": {},
   "outputs": [
    {
     "name": "stdout",
     "output_type": "stream",
     "text": [
      "수학 점수 합:110\n",
      "수학 점수 평균:27.50\n"
     ]
    }
   ],
   "source": [
    "math4 = 44\n",
    "# 합과 평균 구하기\n",
    "total = math1 + math2 + math3 + math4\n",
    "average = total / 4\n",
    "print(f'수학 점수 합:{total}')\n",
    "print(f'수학 점수 평균:{average:.2f}')"
   ]
  },
  {
   "cell_type": "markdown",
   "id": "91e8eab3-5a24-4504-a9f7-999d0539a666",
   "metadata": {},
   "source": [
    "## 리스트 자료형"
   ]
  },
  {
   "cell_type": "code",
   "execution_count": 4,
   "id": "7c364bc4-570b-4ffe-9f43-5f99380aa463",
   "metadata": {},
   "outputs": [
    {
     "name": "stdout",
     "output_type": "stream",
     "text": [
      "수학 점수 합:66\n",
      "수학 점수 평균:22.00\n"
     ]
    }
   ],
   "source": [
    "math_list = [11, 22, 33]\n",
    "\n",
    "total = 0\n",
    "for math in math_list:\n",
    "    total += math\n",
    "average = total / len(math_list)\n",
    "print(f'수학 점수 합:{total}')\n",
    "print(f'수학 점수 평균:{average:.2f}')"
   ]
  },
  {
   "cell_type": "code",
   "execution_count": null,
   "id": "e7de5fd0-8e41-4a01-b1b1-b438674dbae5",
   "metadata": {},
   "outputs": [],
   "source": [
    "math_list.append(44)"
   ]
  },
  {
   "cell_type": "markdown",
   "id": "ed308b3e-a5de-4217-aa59-65bee07a9271",
   "metadata": {},
   "source": [
    "- 시험 문제에 오류가 발생돼서 모든 학생의 점수를 1점씩 올려줘야 하는 상황"
   ]
  },
  {
   "cell_type": "code",
   "execution_count": 6,
   "id": "8697b474-d785-4954-9fce-d1c16ecd7762",
   "metadata": {},
   "outputs": [
    {
     "name": "stdout",
     "output_type": "stream",
     "text": [
      "[12, 23, 34]\n"
     ]
    }
   ],
   "source": [
    "math_list2 = []\n",
    "for math in math_list:\n",
    "    math_list2.append(math + 1)\n",
    "print(math_list2)"
   ]
  },
  {
   "cell_type": "markdown",
   "id": "c2080912-a53d-4fb8-aea0-78d9a424db9f",
   "metadata": {},
   "source": [
    "여기서 구조를 확장해서\n",
    "- 1반의 점수가 11, 12, 13\n",
    "- 2반의 점수가 21, 22, 23\n",
    "- 3반의정수가 31, 32, 33\n",
    "- 이러한 구조로 바뀌면 중첩 리스트로 변경해야 하고, 합과 평균을 구하는 로직도 변경이 돼야 한다."
   ]
  },
  {
   "cell_type": "markdown",
   "id": "cf7c4776-c36a-4c97-a85f-f622914743fa",
   "metadata": {},
   "source": [
    "## Numpy로 구현한 다차원 배열"
   ]
  },
  {
   "cell_type": "markdown",
   "id": "f727932e-7cbf-4619-ab1d-3376b4894b7f",
   "metadata": {},
   "source": [
    "- Numpy를 이용하면 중첩된 자료를 효율적으로 다룰 수 있다.\n",
    "- `import numpy as np` 형태로 사용하는 게 일반적이다."
   ]
  },
  {
   "cell_type": "code",
   "execution_count": 9,
   "id": "d2a53c91-a1ae-485e-902f-98a7772c800f",
   "metadata": {},
   "outputs": [
    {
     "name": "stdout",
     "output_type": "stream",
     "text": [
      "[[11 12 13]\n",
      " [21 22 23]\n",
      " [31 32 33]]\n",
      "[[11, 12, 13], [21, 22, 23], [31, 32, 33]]\n",
      "<class 'numpy.ndarray'>\n"
     ]
    }
   ],
   "source": [
    "import numpy as np\n",
    "\n",
    "math_ndarray = np.array([[11, 12, 13], [21, 22, 23], [31, 32, 33]])\n",
    "print(math_ndarray)\n",
    "print([[11, 12, 13], [21, 22, 23], [31, 32, 33]])\n",
    "print(type(math_ndarray))"
   ]
  },
  {
   "cell_type": "code",
   "execution_count": 11,
   "id": "cfda8a01-db4d-4a99-8b57-0a4d8900e254",
   "metadata": {},
   "outputs": [
    {
     "name": "stdout",
     "output_type": "stream",
     "text": [
      "[[12 13 14]\n",
      " [22 23 24]\n",
      " [32 33 34]]\n"
     ]
    }
   ],
   "source": [
    "# 각 원소에 1을 더하려면...\n",
    "new_ndarray = math_ndarray + 1      # 단일값인 1이 2차원 형태로 변해 더하기 이루어짐\n",
    "print(new_ndarray)"
   ]
  },
  {
   "cell_type": "code",
   "execution_count": 12,
   "id": "357467f3-1d1e-4eee-9869-ab6f9e4e8f2e",
   "metadata": {},
   "outputs": [
    {
     "name": "stdout",
     "output_type": "stream",
     "text": [
      "합: 207\n",
      "평균: 23.0\n"
     ]
    }
   ],
   "source": [
    "print('합:', np.sum(new_ndarray))\n",
    "print('평균:', np.mean(new_ndarray))"
   ]
  },
  {
   "cell_type": "code",
   "execution_count": 14,
   "id": "8e687021-6adb-4be8-bf97-c4efc3e62d3d",
   "metadata": {},
   "outputs": [
    {
     "name": "stdout",
     "output_type": "stream",
     "text": [
      "반별 평균: [13. 23. 33.]\n"
     ]
    }
   ],
   "source": [
    "# 각 반의 평균(행 평균)\n",
    "print('반별 평균:', np.mean(new_ndarray, axis=1))"
   ]
  },
  {
   "cell_type": "markdown",
   "id": "bc6266c4-b8c4-491e-8e4f-e30c865949b3",
   "metadata": {},
   "source": [
    "# Numpy의 axis(축) 정리"
   ]
  },
  {
   "attachments": {
    "2c01c3ff-79f2-4f4d-9530-00b46922753b.png": {
     "image/png": "[encoded data removed]"
    },
    "e0b67bc5-cf7e-43a2-9bc4-8d617302e37f.png": {
     "image/png": "[encoded data removed]"
    }
   },
   "cell_type": "markdown",
   "id": "93f3e6d4-bdbb-4009-a71c-f97217029555",
   "metadata": {},
   "source": [
    "- 행렬의 모양을 다음과 같이 확인할 수 있다.\n",
    "    - ndarray객체.shape\n",
    "    - 1차원 벡터: (원소개수,)\n",
    "    - 2차원 행렬: (행, 열)\n",
    "    - 3차원 행렬: (깊이, 행, 열)\n",
    "    - shape의 결과 값을 기준으로 axis 값이 0부터 부여된다.\n",
    "    - 2차원인 경우 axis=0 -> 행, axis=1 -> 열을 나타낸다.\n",
    "    - 3차원인 경우 axis=0 -> 깊이, axis=1 -> 행, axis=2 -> 열을 나타낸다.\n",
    "    \n",
    "\n",
    "- 2차원 행렬의 축\n",
    "\n",
    "![2dims.png](attachment:2c01c3ff-79f2-4f4d-9530-00b46922753b.png)\n",
    "   - axis를 0 또는 -2로 하면, **행 축을 기준으로** 계산하라는 의미로 각 행에 있는 열의 값을 계산하여 하나의 값으로 만든다.\n",
    "   - axis를 1 또는 -1로 하면, **열 축을 기준으로** 계산하라는 의미로 각 열에 있는 행의 값을 계산하여 하나의 값으로 만든다.\n",
    "\n",
    "=> 구조를 바꿀 때, 원래 축이 갖는 의미 그대로 사용\n",
    "=> 연산 시, 방향을 생각해 사용\n",
    "\n",
    "- 3차원 행렬의 축\n",
    "\n",
    "![3dims.png](attachment:e0b67bc5-cf7e-43a2-9bc4-8d617302e37f.png)\n",
    "\n",
    "- axis를 0 또는 -3로 하면, **깊이를 기준으로** 계산하라는 의미로 서로 마주하는 요소끼리의 값을 계산하여 하나의 값으로 만든다.\n",
    "- axis를 1 또는 -2로 하면, **행 축을 기준으로** 계산하라는 의미로 각 행에 있는 열의 값을 계산하여 하나의 값으로 만든다.\n",
    "- axis를 2 또는 -1로 하면, **열 축을 기준으로** 계산하라는 의미로 각 열에 있는 행의 값을 계산하여 하나의 값으로 만든다."
   ]
  },
  {
   "cell_type": "code",
   "execution_count": 2,
   "id": "22e31207-f465-4e4c-9150-3121654647e1",
   "metadata": {},
   "outputs": [
    {
     "name": "stdout",
     "output_type": "stream",
     "text": [
      "[[1 2]\n",
      " [3 4]]\n",
      "(2, 2)\n",
      "------------------------------\n",
      "[[[ 1  2  3]\n",
      "  [ 4  5  6]]\n",
      "\n",
      " [[ 7  8  9]\n",
      "  [10 11 12]]]\n",
      "(2, 2, 3)\n"
     ]
    }
   ],
   "source": [
    "import numpy as np\n",
    "\n",
    "array1 = np.array([[1, 2], [3, 4]])\n",
    "print(array1)\n",
    "print(array1.shape)\n",
    "print('-'*30)\n",
    "\n",
    "array2 = np.array([[[1, 2, 3],\n",
    "                   [4, 5, 6]],\n",
    "\n",
    "                  [[7, 8, 9],\n",
    "                   [10, 11, 12]]])\n",
    "print(array2)\n",
    "print(array2.shape)"
   ]
  },
  {
   "cell_type": "code",
   "execution_count": 24,
   "id": "6b434de5-2f59-43fa-aced-0f5ffbc7209f",
   "metadata": {},
   "outputs": [
    {
     "name": "stdout",
     "output_type": "stream",
     "text": [
      "2차원 배열의 axis=0 기준 합:  [4 6]\n",
      "2차원 배열의 axis=1 기준 합:  [3 7]\n",
      "----------------------------------------\n",
      "3차원 배열의 axis=0 기준 합: \n",
      "[[ 8 10 12]\n",
      " [14 16 18]]\n",
      "3차원 배열의 axis=1 기준 합: \n",
      "[[ 5  7  9]\n",
      " [17 19 21]]\n",
      "3차원 배열의 axis=2 기준 합: \n",
      "[[ 6 15]\n",
      " [24 33]]\n"
     ]
    }
   ],
   "source": [
    "print('2차원 배열의 axis=0 기준 합: ', np.sum(array1, axis=0))\n",
    "print('2차원 배열의 axis=1 기준 합: ', np.sum(array1, axis=1))\n",
    "print('-'*40)\n",
    "print('3차원 배열의 axis=0 기준 합: ')\n",
    "print(np.sum(array2, axis=0))\n",
    "print('3차원 배열의 axis=1 기준 합: ')\n",
    "print(np.sum(array2, axis=1))\n",
    "print('3차원 배열의 axis=2 기준 합: ')\n",
    "print(np.sum(array2, axis=2))"
   ]
  },
  {
   "cell_type": "markdown",
   "id": "1d93949a-4873-4503-8a90-fee48487bae6",
   "metadata": {},
   "source": [
    "# Numpy 특징"
   ]
  },
  {
   "cell_type": "markdown",
   "id": "71c7b178-8d55-4c92-b3e5-38252c9c38d4",
   "metadata": {},
   "source": [
    "## Numpy의 ndarray가 빠른 이유\n",
    "- 동일한 연산일 경우 python에 비해 처리 속도가 빠름\n",
    "- ndarray는 타입을 명시하여 원소의 배열로 데이터를 유지\n",
    "    - 다차원 데이터도 연속된 메모리 공간이 할당됨"
   ]
  },
  {
   "attachments": {
    "6cc476c3-34fe-4a41-8432-66728eee8770.png": {
     "image/png": "[encoded data removed]"
    }
   },
   "cell_type": "markdown",
   "id": "1aed09f6-b86e-4d8c-a56c-80a925a080c9",
   "metadata": {},
   "source": [
    "## python의 list가 느린 이유\n",
    "- 파이썬의 리스트는 포인터(메모리 참조 값)의 배열로 데이터를 관리\n",
    "- 경우에 따라서 각각 객체가 메모리 여기저기 흩어져 있음\n",
    "    - 캐시(cathe) 활용이 어려움\n",
    "\n",
    "![numpy_vs_python.png](attachment:6cc476c3-34fe-4a41-8432-66728eee8770.png)"
   ]
  },
  {
   "cell_type": "code",
   "execution_count": 27,
   "id": "f9a27962-8ded-4279-9da8-006d17c19bf6",
   "metadata": {},
   "outputs": [],
   "source": [
    "ndarray = np.random.rand(1000,1000)\n",
    "python_list = ndarray.tolist()  # ndarray를 list로 변환"
   ]
  },
  {
   "cell_type": "code",
   "execution_count": 29,
   "id": "5c8223c8-8127-4f83-8818-c89612f52158",
   "metadata": {
    "scrolled": true
   },
   "outputs": [
    {
     "name": "stdout",
     "output_type": "stream",
     "text": [
      "Python의 list를 사용해서 모든 원소에 1 더하기\n",
      "처리 시간: 0.17853903770446777\n",
      "Numpy의 ndarray를 사용해서 모든 원소에 1 더하기\n",
      "처리 시간: 0.0038509368896484375\n"
     ]
    }
   ],
   "source": [
    "import time\n",
    "print('Python의 list를 사용해서 모든 원소에 1 더하기')\n",
    "start = time.time()\n",
    "result_list = []\n",
    "for inner_list in python_list:\n",
    "    temp_list = []\n",
    "    for e in inner_list:\n",
    "        temp_list.append(e + 1)\n",
    "    result_list.append(temp_list)\n",
    "end = time.time()\n",
    "print('처리 시간:',(end-start))\n",
    "\n",
    "print('Numpy의 ndarray를 사용해서 모든 원소에 1 더하기')\n",
    "start = time.time()\n",
    "ndarray = ndarray + 1\n",
    "end = time.time()\n",
    "print('처리 시간:', (end-start))"
   ]
  },
  {
   "cell_type": "markdown",
   "id": "9d6cdfbf-3512-4dff-8cb1-fea2a9d6c073",
   "metadata": {},
   "source": [
    "# 배열 생성-1"
   ]
  },
  {
   "cell_type": "markdown",
   "id": "2e704ec8-3d29-453e-bd78-6dde8c99300d",
   "metadata": {},
   "source": [
    "## np.array() 이용한 생성\n",
    "- 가장 기본적인 방법\n",
    "- Python의 list 또는 tuple로부터 배열을 생성한다.\n",
    "- 다차원 배열의 모든 원소는 동일한 데이터 타입을 가져야 한다."
   ]
  },
  {
   "cell_type": "code",
   "execution_count": 30,
   "id": "baec3fa4-9e23-4e03-97b9-4b70b7ac29e5",
   "metadata": {},
   "outputs": [
    {
     "name": "stdout",
     "output_type": "stream",
     "text": [
      "[0 1 2 3] <class 'numpy.ndarray'>\n"
     ]
    }
   ],
   "source": [
    "import numpy as np\n",
    "\n",
    "a = np.array([0, 1, 2, 3])\n",
    "print(a, type(a))"
   ]
  },
  {
   "cell_type": "markdown",
   "id": "57d1ad67-ed9c-427b-8cbf-e71ce8931480",
   "metadata": {},
   "source": [
    "### 정수형\n",
    "- int64, int32, int18, unit64 형이 있다."
   ]
  },
  {
   "cell_type": "code",
   "execution_count": 33,
   "id": "ef3a9e82-a387-43bd-b258-72328bda6256",
   "metadata": {},
   "outputs": [
    {
     "name": "stdout",
     "output_type": "stream",
     "text": [
      "int64\n"
     ]
    }
   ],
   "source": [
    "intArray = np.array([[1,2],[3,4]], dtype = 'int64')\n",
    "print(intArray.dtype)"
   ]
  },
  {
   "cell_type": "markdown",
   "id": "616d2db5-bd0c-4606-8f72-9d68b0a7c4d5",
   "metadata": {},
   "source": [
    "### 실수형\n",
    "- float32, float64(default)"
   ]
  },
  {
   "cell_type": "code",
   "execution_count": 34,
   "id": "802a00fa-5df7-4cb4-98b6-4db544cd0500",
   "metadata": {},
   "outputs": [
    {
     "name": "stdout",
     "output_type": "stream",
     "text": [
      "float64\n"
     ]
    }
   ],
   "source": [
    "floatArray = np.array([[1.1, 2.2], [3.3, 4.4]])\n",
    "print(floatArray.dtype)"
   ]
  },
  {
   "cell_type": "markdown",
   "id": "06c1b572-8aa6-424c-87f5-c9a65b196df4",
   "metadata": {},
   "source": [
    "### 논리형\n",
    "- bool"
   ]
  },
  {
   "cell_type": "code",
   "execution_count": 35,
   "id": "f1f3ca8d-d7fe-4f21-8409-22e9b89535b0",
   "metadata": {},
   "outputs": [
    {
     "name": "stdout",
     "output_type": "stream",
     "text": [
      "bool\n"
     ]
    }
   ],
   "source": [
    "boolArray = np.array([True, False, False, True])\n",
    "print(boolArray.dtype)"
   ]
  },
  {
   "cell_type": "markdown",
   "id": "7efdc2e2-67bf-4672-9633-56ec4ebe78c9",
   "metadata": {},
   "source": [
    "### 형변환\n",
    "- dtype 속성의 값을 통해 데이터 타입을 지정된 타입으로 강제 변환이 가능하다."
   ]
  },
  {
   "cell_type": "code",
   "execution_count": 37,
   "id": "a03f3119-1cb2-43d3-8ee7-a8f11bfd386b",
   "metadata": {},
   "outputs": [
    {
     "name": "stdout",
     "output_type": "stream",
     "text": [
      "[1 2 3 4] int32\n"
     ]
    }
   ],
   "source": [
    "a = np.array(['1','2', 3, 4], dtype='int32')\n",
    "print(a, a.dtype)"
   ]
  },
  {
   "cell_type": "markdown",
   "id": "b67f1ef6-dd36-4724-8e2e-e8efa90f23eb",
   "metadata": {},
   "source": [
    "## np.arange()를 이용한 생성\n",
    "- 일련의 숫자를 만들기 위해 python의 range와 유사한 함수를 arange 함수를 제공한다."
   ]
  },
  {
   "cell_type": "code",
   "execution_count": 2,
   "id": "297df6e6-a782-4ef2-a35a-785a4447aaf3",
   "metadata": {},
   "outputs": [
    {
     "name": "stdout",
     "output_type": "stream",
     "text": [
      "[1 2 3 4 5 6 7 8 9]\n",
      "[10 15 20 25]\n"
     ]
    }
   ],
   "source": [
    "import numpy as np\n",
    "\n",
    "a = np.arange(1, 10)\n",
    "print(a)\n",
    "\n",
    "b = np.arange(10, 30, 5)\n",
    "print(b)"
   ]
  },
  {
   "cell_type": "markdown",
   "id": "a1e9975a-341a-42fe-8ef6-8d12ca952d59",
   "metadata": {},
   "source": [
    "# Numpy 배열의 주요 속성\n",
    "- ndarray 객체의 주요 속성은 다음과 같다.\n",
    "1. ndarray.shape\n",
    "   - numpy array의 구성(차원)을 튜플 타입으로 변환\n",
    "2. ndarray.dtype\n",
    "   - 배열 요소의 자료형을 반환\n",
    "3. ndarray.ndim\n",
    "   - dimenstion의 차수를 정수 값으로 반환\n",
    "4. ndarray.size\n",
    "   - 배열의 요소의 총 개수를 정수 값으로 반환\n",
    "5. ndarray.nbytes\n",
    "   - ndarray 객체의 메모리 크기 반환"
   ]
  },
  {
   "cell_type": "code",
   "execution_count": 3,
   "id": "287e6c40-92fc-475b-9d3b-bed6ad8d400f",
   "metadata": {},
   "outputs": [
    {
     "name": "stdout",
     "output_type": "stream",
     "text": [
      "[1 2 3 4 5]\n",
      "int32\n",
      "1\n",
      "(5,)\n",
      "20\n",
      "5\n"
     ]
    }
   ],
   "source": [
    "# 1차원 배열\n",
    "\n",
    "a = np.array([1, 2, 3, 4, 5])\n",
    "print(a)\n",
    "print(a.dtype)\n",
    "print(a.ndim)\n",
    "print(a.shape)\n",
    "print(a.nbytes)\n",
    "print(a.size)"
   ]
  },
  {
   "cell_type": "code",
   "execution_count": 4,
   "id": "598c0d07-d58e-4a10-80e6-4b2ae0b04295",
   "metadata": {},
   "outputs": [
    {
     "name": "stdout",
     "output_type": "stream",
     "text": [
      "[[1 2]\n",
      " [3 4]\n",
      " [5 6]]\n",
      "int32\n",
      "2\n",
      "(3, 2)\n",
      "24\n",
      "6\n",
      "3\n"
     ]
    }
   ],
   "source": [
    "# 2차원 배열 : 3 x 2\n",
    "\n",
    "a = np.array([[1, 2], [3, 4], [5, 6]])\n",
    "print(a)\n",
    "print(a.dtype)\n",
    "print(a.ndim)\n",
    "print(a.shape)\n",
    "print(a.nbytes)\n",
    "print(a.size)\n",
    "print(len(a))"
   ]
  },
  {
   "cell_type": "code",
   "execution_count": 5,
   "id": "8fe4d485-85a0-4bb2-b797-4f05d96c937a",
   "metadata": {},
   "outputs": [
    {
     "name": "stdout",
     "output_type": "stream",
     "text": [
      "[[[ 1  2  3]\n",
      "  [ 4  5  6]]\n",
      "\n",
      " [[ 7  8  9]\n",
      "  [10 11 12]]]\n",
      "int32\n",
      "3\n",
      "(2, 2, 3)\n",
      "48\n",
      "12\n"
     ]
    }
   ],
   "source": [
    "# 3차원 배열 : 2 x 2 x 3\n",
    "a = np.array([[[1, 2, 3], [4, 5, 6]], [[7, 8, 9], [10, 11, 12]]])\n",
    "print(a)\n",
    "print(a.dtype)\n",
    "print(a.ndim)\n",
    "print(a.shape)\n",
    "print(a.nbytes)\n",
    "print(a.size)"
   ]
  },
  {
   "cell_type": "markdown",
   "id": "c476745c-e456-4a2b-8883-640c2e32c490",
   "metadata": {},
   "source": [
    "# 배열 생성 - 2"
   ]
  },
  {
   "cell_type": "markdown",
   "id": "e41b2f46-a217-40be-a59d-355758bfc762",
   "metadata": {},
   "source": [
    "## np.zeros()\n",
    "- 모든 요소가 0으로 이루어진 지정한 크기의 새로운 배열을 생성"
   ]
  },
  {
   "cell_type": "code",
   "execution_count": 11,
   "id": "efab83c7-b1b5-46f3-91c7-9da4927f8d85",
   "metadata": {},
   "outputs": [
    {
     "name": "stdout",
     "output_type": "stream",
     "text": [
      "[0. 0. 0. 0.]\n",
      "[0 0 0 0]\n",
      "[[0. 0. 0.]\n",
      " [0. 0. 0.]\n",
      " [0. 0. 0.]]\n",
      "[[0 0 0]\n",
      " [0 0 0]\n",
      " [0 0 0]]\n"
     ]
    }
   ],
   "source": [
    "a = np.zeros(4)          # float 타입의 데이터 만듦\n",
    "print(a)\n",
    "b = np.zeros(4, dtype='int32')\n",
    "print(b)\n",
    "c = np.zeros((3,3))\n",
    "print(c)\n",
    "\n",
    "A = np.array([[1, 2, 3], [4, 5, 6], [7, 8, 9]])\n",
    "d = np.zeros_like(A)  # 지정된 배열과 같은 모양의 0의 원소를 갖는 배열 생성\n",
    "print(d)"
   ]
  },
  {
   "cell_type": "markdown",
   "id": "f8541990-e753-4ec0-a24e-f2e68f9b4fba",
   "metadata": {},
   "source": [
    "## np.ones()\n",
    "- 모든 요소가 1으로 이루어진 지정한 크기의 새로운 배열을 생성"
   ]
  },
  {
   "cell_type": "code",
   "execution_count": 17,
   "id": "2957e64e-9249-45f7-8247-835af07f2b8a",
   "metadata": {},
   "outputs": [
    {
     "name": "stdout",
     "output_type": "stream",
     "text": [
      "[[1. 1. 1.]\n",
      " [1. 1. 1.]]\n",
      "[[1 1 1]\n",
      " [1 1 1]]\n",
      "[[1 1 1]\n",
      " [1 1 1]\n",
      " [1 1 1]]\n"
     ]
    }
   ],
   "source": [
    "print(np.ones((2, 3)))\n",
    "print(np.ones((2, 3), dtype='int32'))\n",
    "\n",
    "A = np.array([[1, 2, 3], [4, 5, 6], [7, 8, 9]])\n",
    "d = np.ones_like(A) \n",
    "print(d)"
   ]
  },
  {
   "cell_type": "markdown",
   "id": "de53d8e7-0fe1-4d94-8cd2-b7380ed7d606",
   "metadata": {},
   "source": [
    "## np.full()\n",
    "- 지정한 크기에 입력한 특정 값으로 원소를 전부 채운 배열 생성"
   ]
  },
  {
   "cell_type": "code",
   "execution_count": 16,
   "id": "038630e7-c4ee-4fd1-a7ef-bad95354aa9e",
   "metadata": {},
   "outputs": [
    {
     "name": "stdout",
     "output_type": "stream",
     "text": [
      "[[10 10]\n",
      " [10 10]]\n",
      "[[0.3 0.3 0.3]\n",
      " [0.3 0.3 0.3]\n",
      " [0.3 0.3 0.3]]\n"
     ]
    }
   ],
   "source": [
    "print(np.full((2, 2), 10))\n",
    "\n",
    "A = np.array([[1, 2, 3], [4, 5, 6], [7, 8, 9]])\n",
    "d = np.full_like(A, 0.3, dtype = 'float32')\n",
    "print(d)"
   ]
  },
  {
   "cell_type": "markdown",
   "id": "358c5400-a104-41c9-9d70-faebe370f7a9",
   "metadata": {},
   "source": [
    "# 배열 생성 - 3"
   ]
  },
  {
   "cell_type": "markdown",
   "id": "8d697356-40c6-4270-bc24-94763832fb21",
   "metadata": {},
   "source": [
    "## np.linspace()\n",
    "- start부터 stop의 범위에서 num개를 균일한 가격으로 분할한 배열 생성"
   ]
  },
  {
   "cell_type": "code",
   "execution_count": 18,
   "id": "687ee3f1-b06f-4439-916d-7caf739de274",
   "metadata": {},
   "outputs": [
    {
     "name": "stdout",
     "output_type": "stream",
     "text": [
      "[0.   0.25 0.5  0.75 1.   1.25 1.5  1.75 2.  ]\n"
     ]
    }
   ],
   "source": [
    "print(np.linspace(0, 2, 9))  # 0이상 2 이하의 범위를 9개만큼 등분하여 요소를 생성"
   ]
  },
  {
   "cell_type": "code",
   "execution_count": 20,
   "id": "20656bc3-de63-4caf-886d-f5da7c67805e",
   "metadata": {},
   "outputs": [
    {
     "data": {
      "image/png": "[encoded data removed]",
      "text/plain": [
       "<Figure size 640x480 with 1 Axes>"
      ]
     },
     "metadata": {},
     "output_type": "display_data"
    }
   ],
   "source": [
    "import matplotlib.pyplot as plt\n",
    "\n",
    "x = np.linspace(0, 2 * np.pi, 100)\n",
    "y = np.sin(x)\n",
    "\n",
    "plt.plot(x,y)\n",
    "plt.show()"
   ]
  },
  {
   "cell_type": "markdown",
   "id": "ac34c79a-c49b-484f-89e9-69263962aa5e",
   "metadata": {},
   "source": [
    "## np.identity(), np.eye()\n",
    "- 지정한 크기의 정방 단위 행렬을 생성\n",
    "  - 정방 행렬: 행과 열의 크기가 같은 정사각형 행렬\n",
    "  - 단위 행렬: 주대각선의 원소가 모두 1이며, 나머지 원소는 모두 0인 행렬"
   ]
  },
  {
   "cell_type": "code",
   "execution_count": 25,
   "id": "a80a5e4f-f3cf-49f5-9f32-1b5d996f3891",
   "metadata": {},
   "outputs": [
    {
     "name": "stdout",
     "output_type": "stream",
     "text": [
      "[[1 0]\n",
      " [0 1]]\n",
      "[[1. 0. 0.]\n",
      " [0. 1. 0.]\n",
      " [0. 0. 1.]]\n",
      "[[1. 0. 0. 0.]\n",
      " [0. 1. 0. 0.]\n",
      " [0. 0. 1. 0.]]\n",
      "------------------------------\n",
      "[[0. 1. 0. 0.]\n",
      " [0. 0. 1. 0.]\n",
      " [0. 0. 0. 1.]]\n",
      "------------------------------\n",
      "[[0. 0. 0. 0.]\n",
      " [1. 0. 0. 0.]\n",
      " [0. 1. 0. 0.]]\n"
     ]
    }
   ],
   "source": [
    "print(np.identity(2, dtype='int32'))\n",
    "print(np.eye(3))  # eye 함수는 행과 열의 크기가 다른 단위 행렬도 만들 수 있다.\n",
    "\n",
    "print(np.eye(3,4))\n",
    "print('-'*30)\n",
    "# 세 번째 값 : 양수 값은 위쪽 대각선(열)을, 음수 값은 아래쪽 대각선(행)을 나타낸다.\n",
    "print(np.eye(3, 4, 1))\n",
    "print('-'*30)\n",
    "print(np.eye(3, 4, -1))"
   ]
  },
  {
   "cell_type": "markdown",
   "id": "cbf34e4b-b519-447f-b2be-7a71ec90fdcf",
   "metadata": {},
   "source": [
    "# 배열의 변경"
   ]
  },
  {
   "cell_type": "markdown",
   "id": "0cf28d75-0bef-4c99-a673-35edbc69168e",
   "metadata": {},
   "source": [
    "## np.reshape() / ndarray.reshape()\n",
    "- `원본을 변경하지 않고 모양이 변경된 새로운 배열을 반환`"
   ]
  },
  {
   "cell_type": "code",
   "execution_count": 4,
   "id": "a86d7338-f0d0-4c32-85df-8566bd7041b8",
   "metadata": {},
   "outputs": [
    {
     "name": "stdout",
     "output_type": "stream",
     "text": [
      "[0 1 2 3 4 5]\n",
      "[[0 1]\n",
      " [2 3]\n",
      " [4 5]]\n",
      "[0 1 2 3 4 5]\n",
      "------------------------------\n",
      "[[0 1]\n",
      " [2 3]\n",
      " [4 5]]\n",
      "------------------------------\n",
      "[[ 1  2  3  4  5]\n",
      " [ 6  7  8  9 10]]\n",
      "------------------------------\n",
      "[[[ 1]\n",
      "  [ 2]]\n",
      "\n",
      " [[ 3]\n",
      "  [ 4]]\n",
      "\n",
      " [[ 5]\n",
      "  [ 6]]\n",
      "\n",
      " [[ 7]\n",
      "  [ 8]]\n",
      "\n",
      " [[ 9]\n",
      "  [10]]]\n",
      "------------------------------\n",
      "[ 1  2  3  4  5  6  7  8  9 10]\n"
     ]
    }
   ],
   "source": [
    "a = np.arange(6)\n",
    "print(a)\n",
    "\n",
    "b = a.reshape((3, 2))  # np.reshape(a, (3,2)) 와 동일\n",
    "print(b)\n",
    "print(a)  # 원본 배열은 모양이 변하지 않는다.\n",
    "print('-'*30)\n",
    "# 열의 크기를 2로 맞추고 행의 크기는 전체 요소 개수에 맞춰 알아서 지정한다.\n",
    "c = np.reshape(a, (-1, 2))\n",
    "print(c)\n",
    "\n",
    "print('-'*30)\n",
    "d = np.arange(1, 11).reshape(2, 5)\n",
    "print(d)\n",
    "print('-'*30)\n",
    "e = d.reshape((-1, 2, 1))\n",
    "print(e)\n",
    "print('-'*30)\n",
    "f = e.reshape(-1)  # -1의 의미는 행렬의 값이 없으므로 요소를 한 줄로 나타내게 된다.\n",
    "print(f)"
   ]
  },
  {
   "cell_type": "markdown",
   "id": "e73b958e-2b9b-4f3c-8717-8320931d5b0b",
   "metadata": {},
   "source": [
    "## ndarray.resize()\n",
    "- 원본 배열을 새로운 모양의 배열로 변경한다.\n",
    "- 대상 배열의 요소의 개수가 원래 배열과 동일하지 않으면 크기를 강제로 조정한다."
   ]
  },
  {
   "cell_type": "code",
   "execution_count": 38,
   "id": "4d9c1dae-df6d-432e-9d8b-b3fc9d7562d9",
   "metadata": {},
   "outputs": [
    {
     "name": "stdout",
     "output_type": "stream",
     "text": [
      "[[ 0  1  2  3]\n",
      " [ 4  5  6  7]\n",
      " [ 8  9 10 11]]\n",
      "------------------------------\n",
      "[[ 0  1  2  3]\n",
      " [ 4  5  6  7]\n",
      " [ 8  9 10 11]\n",
      " [ 0  0  0  0]]\n"
     ]
    }
   ],
   "source": [
    "a = np.arange(12)\n",
    "a.resize((3,4))\n",
    "print(a)\n",
    "print('-'*30)\n",
    "a.resize((4,4)) # 원본과 크기가 달라도 오류가 발생되지 않는다.\n",
    "print(a)"
   ]
  },
  {
   "cell_type": "markdown",
   "id": "b63a216b-239a-45a3-aa04-8679aeca44c0",
   "metadata": {},
   "source": [
    "## ndarray.flatten() / ndarray.ravel()\n",
    "- 배열을 1차원으로 만든다.\n",
    "- flatten(): 배열을 복사해서 1차원으로 변경하므로 **원본에 영향을 미치지 않는다.**\n",
    "- ravel(): 원본의 값을 복사하지 않는다. 따라서 값을 수정하면 원본 값도 수정된다."
   ]
  },
  {
   "cell_type": "code",
   "execution_count": 40,
   "id": "32afdaae-6442-4ae3-a6e3-14aeb5ce097e",
   "metadata": {},
   "outputs": [
    {
     "name": "stdout",
     "output_type": "stream",
     "text": [
      "[[1 2]\n",
      " [3 4]]\n",
      "[1 2 3 4]\n"
     ]
    }
   ],
   "source": [
    "import numpy as np\n",
    "\n",
    "a = np.arange(1, 5).reshape((2,2))\n",
    "print(a)\n",
    "print(a.flatten())"
   ]
  },
  {
   "cell_type": "code",
   "execution_count": 44,
   "id": "31f8628b-2544-4a22-9d87-bfdbb16b6e4d",
   "metadata": {},
   "outputs": [
    {
     "name": "stdout",
     "output_type": "stream",
     "text": [
      "[1 2 3 4]\n",
      "[[10  2]\n",
      " [ 3  4]]\n"
     ]
    }
   ],
   "source": [
    "b = a.ravel()\n",
    "print(b)\n",
    "b[0] = 10\n",
    "print(a)"
   ]
  },
  {
   "cell_type": "markdown",
   "id": "3e8d59cd-00cb-4de2-8b50-6cd33d7aefd3",
   "metadata": {},
   "source": [
    "## np.expand_dims()\n",
    "- 지정한 axis의 위치에 새로운 차원을 추가한다."
   ]
  },
  {
   "cell_type": "code",
   "execution_count": 48,
   "id": "0d56be0e-52fb-492c-a780-53d0a030ecf0",
   "metadata": {},
   "outputs": [
    {
     "name": "stdout",
     "output_type": "stream",
     "text": [
      "[1 2]\n",
      "(2,)\n",
      "------------------------------\n",
      "[[1 2]]\n",
      "(1, 2)\n",
      "------------------------------\n",
      "[[1]\n",
      " [2]]\n",
      "(2, 1)\n"
     ]
    }
   ],
   "source": [
    "a = np.array([1,2])\n",
    "print(a)\n",
    "print(a.shape)\n",
    "print('-'*30)\n",
    "\n",
    "b = np.expand_dims(a, axis=0)\n",
    "print(b)\n",
    "print(b.shape)\n",
    "print('-'*30)\n",
    "\n",
    "c = np.expand_dims(a, axis=1)\n",
    "print(c)\n",
    "print(c.shape)"
   ]
  },
  {
   "cell_type": "code",
   "execution_count": 52,
   "id": "3ed9e8ee-8a76-4683-b9dd-c4f8401c6a85",
   "metadata": {},
   "outputs": [
    {
     "name": "stdout",
     "output_type": "stream",
     "text": [
      "[[1 2 3]\n",
      " [4 5 6]]\n",
      "(2, 3)\n",
      "------------------------------\n",
      "[[[1 2 3]\n",
      "  [4 5 6]]]\n",
      "(1, 2, 3)\n",
      "------------------------------\n",
      "[[[1 2 3]]\n",
      "\n",
      " [[4 5 6]]]\n",
      "(2, 1, 3)\n",
      "------------------------------\n",
      "[[[1]\n",
      "  [2]\n",
      "  [3]]\n",
      "\n",
      " [[4]\n",
      "  [5]\n",
      "  [6]]]\n",
      "(2, 3, 1)\n"
     ]
    }
   ],
   "source": [
    "a = np.arange(1, 7).reshape(2,3)\n",
    "print(a)\n",
    "print(a.shape)\n",
    "print('-'*30)\n",
    "\n",
    "b = np.expand_dims(a, axis=0)\n",
    "print(b)\n",
    "print(b.shape)\n",
    "print('-'*30)\n",
    "\n",
    "c = np.expand_dims(a, axis=1)\n",
    "print(c)\n",
    "print(c.shape)\n",
    "print('-'*30)\n",
    "\n",
    "d = np.expand_dims(a, axis=2)\n",
    "print(d)\n",
    "print(d.shape)"
   ]
  },
  {
   "cell_type": "markdown",
   "id": "6d34f121-125e-402a-9af4-8017ac011b51",
   "metadata": {},
   "source": [
    "- np.newaxis 를 이용해서 차원을 늘릴 수도 있다."
   ]
  },
  {
   "cell_type": "code",
   "execution_count": 55,
   "id": "86a24794-ea18-479a-80ef-d89357268748",
   "metadata": {},
   "outputs": [
    {
     "name": "stdout",
     "output_type": "stream",
     "text": [
      "[0 1 2 3]\n",
      "[[0 1 2 3]]\n",
      "[[0]\n",
      " [1]\n",
      " [2]\n",
      " [3]]\n"
     ]
    }
   ],
   "source": [
    "a = np.arange(4)\n",
    "print(a)\n",
    "\n",
    "row_vect = a[np.newaxis, :]  # 새로운 행 축 추가\n",
    "print(row_vect)\n",
    "\n",
    "col_vect = a[:, np.newaxis]  # 새로운 열 축 추가\n",
    "print(col_vect)"
   ]
  },
  {
   "cell_type": "markdown",
   "id": "6439cfe5-918c-4efd-9945-a8dd477c1835",
   "metadata": {},
   "source": [
    "## np.astype() / ndarray.astype()\n",
    "- 배열의 타입을 변경"
   ]
  },
  {
   "cell_type": "code",
   "execution_count": 57,
   "id": "a5a3eb10-5b52-43a7-81f5-a34078c3ca55",
   "metadata": {},
   "outputs": [
    {
     "name": "stdout",
     "output_type": "stream",
     "text": [
      "[1 2 3]\n",
      "int32\n",
      "[1. 2. 3.]\n",
      "float32\n"
     ]
    }
   ],
   "source": [
    "a = np.arange(1,4)\n",
    "print(a)\n",
    "print(a.dtype)\n",
    "\n",
    "a_float = a.astype('float32')  # a.astype(np.float32)\n",
    "print(a_float)\n",
    "print(a_float.dtype)"
   ]
  },
  {
   "cell_type": "markdown",
   "id": "cd9617ee-fd54-4b1c-9db2-78c6f011ab48",
   "metadata": {},
   "source": [
    "## np.squeeze()\n",
    "- 차원 축소"
   ]
  },
  {
   "cell_type": "code",
   "execution_count": 62,
   "id": "242dabc4-7d27-4dd7-a983-75cc934167da",
   "metadata": {},
   "outputs": [
    {
     "name": "stdout",
     "output_type": "stream",
     "text": [
      "[[[1]\n",
      "  [2]\n",
      "  [3]]]\n",
      "(1, 3, 1)\n",
      "------------------------------\n",
      "[1 2 3]\n",
      "(3,)\n",
      "------------------------------\n",
      "[[1]\n",
      " [2]\n",
      " [3]]\n",
      "(3, 1)\n",
      "------------------------------\n"
     ]
    }
   ],
   "source": [
    "a = np.arange(1, 4).reshape((1,3,1))\n",
    "print(a)\n",
    "print(a.shape)\n",
    "print('-'*30)\n",
    "\n",
    "b = np.squeeze(a)  # 축 옵션을 지정하지 않으면 1차원으로 변경\n",
    "print(b)\n",
    "print(b.shape)\n",
    "print('-'*30)\n",
    "\n",
    "c = np.squeeze(a, axis=0)\n",
    "print(c)\n",
    "print(c.shape)\n",
    "print('-'*30)\n",
    "\n",
    "# 원본의 원소 개수와 일치되지 않아 ValueError를 발생\n",
    "# d = np.squeeze(a, axis=1)"
   ]
  },
  {
   "cell_type": "markdown",
   "id": "7fb6d2af-a9fc-43f3-a247-ad0c03542b5e",
   "metadata": {},
   "source": [
    "## np.concatenate()\n",
    "- 두 개 이상의 배열을 연결한다.\n",
    "- 배열을 연결하려면 차원 수가 같아야 한다.\n",
    "- axis 인수를 설정하여 연결 방향을 정할 수 있다. (default:axis=0)"
   ]
  },
  {
   "cell_type": "code",
   "execution_count": 66,
   "id": "41e70105-ef70-48be-a458-6beaeddc14d9",
   "metadata": {},
   "outputs": [
    {
     "name": "stdout",
     "output_type": "stream",
     "text": [
      "[[1 2]\n",
      " [3 4]]\n",
      "[5 6]\n",
      "[[1 2]\n",
      " [3 4]\n",
      " [5 6]]\n"
     ]
    }
   ],
   "source": [
    "a = np.arange(1, 5).reshape((2,2))\n",
    "print(a)\n",
    "b = np.array([5, 6])\n",
    "print(b)\n",
    "\n",
    "# c = np.concatenate((a, b))  # 차원 수가 다르기 때문에 에러\n",
    "c = np.concatenate((a, np.expand_dims(b, axis=0)))\n",
    "print(c)"
   ]
  },
  {
   "cell_type": "code",
   "execution_count": 68,
   "id": "7f8d5700-6472-4f97-82d4-c65b5784ae77",
   "metadata": {},
   "outputs": [
    {
     "name": "stdout",
     "output_type": "stream",
     "text": [
      "[[1 2 1 3 5]\n",
      " [3 4 2 4 6]]\n"
     ]
    }
   ],
   "source": [
    "e = np.concatenate((a, c.T), axis=1)\n",
    "print(e)"
   ]
  },
  {
   "cell_type": "markdown",
   "id": "3f0c1009-ed35-4c64-b551-c80173198731",
   "metadata": {},
   "source": [
    "# 기본 연산\n",
    "- 배열에 대한 산술 연산자는 **요소별(element-wise)**로 적용된다."
   ]
  },
  {
   "cell_type": "markdown",
   "id": "8fb31bee-863b-440d-96ab-f3b09390563b",
   "metadata": {},
   "source": [
    "## 산술 연산"
   ]
  },
  {
   "cell_type": "code",
   "execution_count": 77,
   "id": "bb8eaf8d-fb49-418f-bbe1-293c697e1ead",
   "metadata": {},
   "outputs": [
    {
     "name": "stdout",
     "output_type": "stream",
     "text": [
      "5.0\n",
      "------------------------------\n",
      "[[0. 1. 2.]\n",
      " [3. 4. 5.]\n",
      " [6. 7. 8.]]\n",
      "------------------------------\n",
      "[0. 1. 2.]\n",
      "------------------------------\n",
      "[[ 0.  2.  4.]\n",
      " [ 3.  5.  7.]\n",
      " [ 6.  8. 10.]]\n",
      "------------------------------\n",
      "[[0. 0. 0.]\n",
      " [3. 3. 3.]\n",
      " [6. 6. 6.]]\n",
      "------------------------------\n",
      "[[ 0.  1.  4.]\n",
      " [ 0.  4. 10.]\n",
      " [ 0.  7. 16.]]\n",
      "------------------------------\n",
      "[[0.   0.25 0.5 ]\n",
      " [0.75 1.   1.25]\n",
      " [1.5  1.75 2.  ]]\n"
     ]
    }
   ],
   "source": [
    "import numpy as np\n",
    "\n",
    "# 덧셈\n",
    "a = np.add(1.0, 4.0)\n",
    "print(a)\n",
    "print('-'*30)\n",
    "a = np.arange(9.0).reshape((3,3))\n",
    "b = np.arange(3.0)\n",
    "print(a)\n",
    "print('-'*30)\n",
    "print(b)\n",
    "print('-'*30)\n",
    "print(np.add(a,b))  # a + b\n",
    "print('-'*30)\n",
    "\n",
    "#뺄셈\n",
    "print(np.subtract(a,b))  # a - b\n",
    "print('-'*30)\n",
    "\n",
    "# 곱셈\n",
    "print(np.multiply(a,b))  # a * b\n",
    "print('-'*30)\n",
    "\n",
    "# 나눗셈\n",
    "print(np.divide(a, 4))"
   ]
  },
  {
   "cell_type": "markdown",
   "id": "5e496127-29e5-4ca7-b803-417abc26c046",
   "metadata": {},
   "source": [
    "## 통계 연산\n",
    "- 통계 연산은 axis와 밀접한 관계가 있다.\n",
    "- 축 값을 입력하지 않으면 모든 원소에 대한 연산 결과를 출력한다."
   ]
  },
  {
   "cell_type": "markdown",
   "id": "01b6d1ad-cebb-449d-8f8b-eea71781c2ae",
   "metadata": {},
   "source": [
    "### np.sum()"
   ]
  },
  {
   "cell_type": "code",
   "execution_count": 83,
   "id": "427b0bd8-6ee0-4c3c-93f7-cf06126aadab",
   "metadata": {},
   "outputs": [
    {
     "name": "stdout",
     "output_type": "stream",
     "text": [
      "66\n",
      "[12 15 18 21]\n",
      "[ 6 22 38]\n",
      "[[ 0  1  3  6]\n",
      " [ 4  9 15 22]\n",
      " [ 8 17 27 38]]\n"
     ]
    }
   ],
   "source": [
    "a = np.arange(12).reshape((3,4))\n",
    "print(a.sum())  # np.sum(a), 모든 원소에 대한 합\n",
    "print(a.sum(axis=0)) # 각 열의 합\n",
    "print(a.sum(axis=1)) # 각 행의 합\n",
    "print(a.cumsum(axis=1)) # 각 행의 누적합  , 따라서 마지막 값은 각 행의 값과 동일"
   ]
  },
  {
   "cell_type": "markdown",
   "id": "a63c759d-0c8b-4713-8d7c-cbd82d00f4f3",
   "metadata": {},
   "source": [
    "### np.mean()\n",
    "- 축을 따라 산술 평균을 계산"
   ]
  },
  {
   "cell_type": "code",
   "execution_count": 84,
   "id": "65b4b957-a9f7-4370-bb77-b2bfe352dcae",
   "metadata": {},
   "outputs": [
    {
     "name": "stdout",
     "output_type": "stream",
     "text": [
      "[[1 2 3]\n",
      " [4 5 6]\n",
      " [7 8 9]]\n",
      "[4. 5. 6.]\n",
      "[2. 5. 8.]\n",
      "5.0\n"
     ]
    }
   ],
   "source": [
    "a = np.arange(1, 10).reshape((3,3))\n",
    "print(a)\n",
    "\n",
    "print(np.mean(a,0))\n",
    "print(np.mean(a,1))\n",
    "print(np.mean(a))"
   ]
  },
  {
   "cell_type": "markdown",
   "id": "8fee2b59-2b0e-412a-9728-0ad22f75f7f4",
   "metadata": {},
   "source": [
    "### np.average()\n",
    "- 주어진 축에 따라 가중평균 계산\n",
    "- avg = sum(a + weight) / sum(weight)"
   ]
  },
  {
   "cell_type": "code",
   "execution_count": 88,
   "id": "ad90d7a2-6040-4538-a56b-6bc946349f83",
   "metadata": {},
   "outputs": [
    {
     "name": "stdout",
     "output_type": "stream",
     "text": [
      "[[0 1]\n",
      " [2 3]\n",
      " [4 5]]\n",
      "[0.75 2.75 4.75]\n"
     ]
    }
   ],
   "source": [
    "a = np.arange(6).reshape((3,2))\n",
    "print(a)\n",
    "# 0.75 = sum(0*(1/4) + 1*(3/4)) / sum(1/4 + 3/4)\n",
    "print(np.average(a, axis=1, weights=[1/4, 3/4]))"
   ]
  },
  {
   "cell_type": "markdown",
   "id": "76158a07-79b4-4597-8f4f-512d8a11662b",
   "metadata": {},
   "source": [
    "### np.max() / np.min()\n",
    "- axis를 따른 배열의 최대/최소값 반환"
   ]
  },
  {
   "cell_type": "markdown",
   "id": "eb47e911-b1bf-461e-9e10-9cbf262a258b",
   "metadata": {},
   "source": [
    "### np.median()\n",
    "- axis를 따른 배열의 중앙값 반환"
   ]
  },
  {
   "cell_type": "markdown",
   "id": "19a38c97-9ac5-4b46-a84c-1088a9e377c7",
   "metadata": {},
   "source": [
    "### np.var() / np.std()\n",
    "- axis를 따른 배열의 분산, 표준편차 변환"
   ]
  },
  {
   "cell_type": "markdown",
   "id": "6bffe4bb-13a5-4e09-b839-a897420dce3d",
   "metadata": {},
   "source": [
    "### np.maximum()\n",
    "- 두 개의 배열을 다져와 요소별 최대값 변환"
   ]
  },
  {
   "cell_type": "code",
   "execution_count": 89,
   "id": "f98140c1-1ef0-401c-bf34-632d3c7b8ff5",
   "metadata": {},
   "outputs": [
    {
     "name": "stdout",
     "output_type": "stream",
     "text": [
      "[4 6 9]\n"
     ]
    }
   ],
   "source": [
    "a = np.array([3, 6, 1])\n",
    "b = np.array([4, 2, 9])\n",
    "print(np.maximum(a,b))"
   ]
  },
  {
   "cell_type": "markdown",
   "id": "37cdf9df-bc9a-433c-92af-f73199261353",
   "metadata": {},
   "source": [
    "## 최소값, 최대값 아규먼트 위치\n",
    "- np.argmax(): 제일 큰 값 위치 정보\n",
    "- np.argmin(): 제일 작은 값 위치 정보\n",
    "- np.where(조건): 조건에 맞는 값 위치 정보\n",
    "- np.where(조건, 조건에 맞을 때 값, 조건과 다를 때 값)"
   ]
  },
  {
   "cell_type": "code",
   "execution_count": 91,
   "id": "276bdc8a-75b2-482a-a698-42c1ea8d185f",
   "metadata": {},
   "outputs": [
    {
     "name": "stdout",
     "output_type": "stream",
     "text": [
      "4\n",
      "3\n"
     ]
    }
   ],
   "source": [
    "import numpy as np\n",
    "\n",
    "a = np.array([5,6,8,1,9,3,4,7])\n",
    "print(np.argmax(a))\n",
    "print(np.argmin(a))"
   ]
  },
  {
   "cell_type": "code",
   "execution_count": 94,
   "id": "170bee4c-6185-4575-b0fb-26b0162b87ae",
   "metadata": {},
   "outputs": [
    {
     "name": "stdout",
     "output_type": "stream",
     "text": [
      "(array([1, 2, 4, 7], dtype=int64),)\n",
      "[-1  1  1 -1  1 -1 -1  1]\n",
      "[0 6 8 0 9 0 0 7]\n"
     ]
    }
   ],
   "source": [
    "print(np.where(a > 5))\n",
    "print(np.where(a > 5, 1, -1))\n",
    "print(np.where(a > 5, a, 0))"
   ]
  },
  {
   "cell_type": "markdown",
   "id": "d7557088-8336-4808-ab5f-cf63b01f20c4",
   "metadata": {},
   "source": [
    "## 비교 연산 \n",
    "- 연산자를 이용하여 요소별 비교"
   ]
  },
  {
   "cell_type": "code",
   "execution_count": 96,
   "id": "be306e69-b9bc-4176-b640-f5df80211c20",
   "metadata": {},
   "outputs": [
    {
     "name": "stdout",
     "output_type": "stream",
     "text": [
      "[ True  True  True]\n",
      "[False  True False]\n"
     ]
    }
   ],
   "source": [
    "a = np.array([1,2,3])\n",
    "b = np.array([1,2,3])\n",
    "c = np.array([3,2,5])\n",
    "\n",
    "print(a == b)\n",
    "print(a == c)"
   ]
  },
  {
   "cell_type": "code",
   "execution_count": 98,
   "id": "4a12ce40-6792-450e-b4ab-ce9daa29a50e",
   "metadata": {},
   "outputs": [
    {
     "name": "stdout",
     "output_type": "stream",
     "text": [
      "[[1 2 3]\n",
      " [4 5 6]\n",
      " [7 8 9]]\n",
      "[[False  True False]\n",
      " [ True False  True]\n",
      " [False  True False]]\n"
     ]
    }
   ],
   "source": [
    "a = np.arange(1, 10).reshape((3,3))\n",
    "print(a)\n",
    "result = a % 2 == 0\n",
    "print(result)"
   ]
  },
  {
   "cell_type": "markdown",
   "id": "af31cc22-d237-4152-9955-f5f91d9f4514",
   "metadata": {},
   "source": [
    "### all(), any()를 이용한 비교\n",
    "- all(): 요소 전체가 같아야 하나의 True\n",
    "- any(): 요소 전체 중 하나만 같아도 True"
   ]
  },
  {
   "cell_type": "code",
   "execution_count": 99,
   "id": "d51216b6-877c-4fff-bb4e-16f51cc9ae38",
   "metadata": {},
   "outputs": [
    {
     "name": "stdout",
     "output_type": "stream",
     "text": [
      "True\n",
      "False\n",
      "True\n",
      "True\n"
     ]
    }
   ],
   "source": [
    "a = np.array([1,2,3])\n",
    "b = np.array([1,2,3])\n",
    "c = np.array([3,2,5])\n",
    "\n",
    "print(np.all(a == b))\n",
    "print(np.all(a == c)) \n",
    "\n",
    "print(np.any(a == b))\n",
    "print(np.any(a == c))"
   ]
  },
  {
   "cell_type": "markdown",
   "id": "1063cf46-9368-4415-8ad5-fb1dcaf7a611",
   "metadata": {},
   "source": [
    "## 논리 연산\n",
    "- np.logical_and(), np.logical_or(), np.logical_not(), np.logical_xor()"
   ]
  },
  {
   "cell_type": "code",
   "execution_count": 105,
   "id": "0eaa56a8-96af-4741-974f-5bbdddb5c63e",
   "metadata": {},
   "outputs": [
    {
     "name": "stdout",
     "output_type": "stream",
     "text": [
      "x 행렬:\n",
      "[[ 1  2  3  4  5]\n",
      " [ 6  7  8  9 10]]\n",
      "------------------------------\n",
      "y 행렬: 짝수면 True, 홀수면 False\n",
      "[[False  True False  True False]\n",
      " [ True False  True False  True]]\n",
      "------------------------------\n",
      "z 행렬: 4보다 크면 True, 작으면 False\n",
      "[[False False False  True  True]\n",
      " [ True  True  True  True  True]]\n",
      "------------------------------\n",
      "y and z 행렬:\n",
      "[[False False False  True False]\n",
      " [ True False  True False  True]]\n",
      "------------------------------\n",
      "y and z 조건을 만족하는 요소\n",
      "[ 4  6  8 10]\n",
      "------------------------------\n",
      "[5 7 9]\n"
     ]
    }
   ],
   "source": [
    "x = np.arange(1, 11).reshape((2,5))\n",
    "print('x 행렬:')\n",
    "print(x)\n",
    "print('-'*30)\n",
    "\n",
    "y = x % 2 == 0\n",
    "print('y 행렬: 짝수면 True, 홀수면 False')\n",
    "print(y)\n",
    "print('-'*30)\n",
    "\n",
    "z = x >= 4\n",
    "print('z 행렬: 4보다 크면 True, 작으면 False')\n",
    "print(z)\n",
    "print('-'*30)\n",
    "\n",
    "print('y and z 행렬:')\n",
    "print(np.logical_and(y, z))\n",
    "print('-'*30)\n",
    "\n",
    "print('y and z 조건을 만족하는 요소')\n",
    "print(x[np.logical_and(y,z)])\n",
    "print('-'*30)\n",
    "\n",
    "print(x[np.logical_and(~y, z)])   # ~ 은 not(부정) 연산자"
   ]
  },
  {
   "cell_type": "markdown",
   "id": "94610793-16d1-4483-be33-23e7f0d2cc87",
   "metadata": {},
   "source": [
    "## 정렬"
   ]
  },
  {
   "cell_type": "code",
   "execution_count": 107,
   "id": "fad90771-74ce-42d9-b21f-dc080d320b52",
   "metadata": {},
   "outputs": [
    {
     "name": "stdout",
     "output_type": "stream",
     "text": [
      "[10 37 16  1 29 26 30 49 30  9]\n"
     ]
    }
   ],
   "source": [
    "import numpy as np\n",
    "\n",
    "np.random.seed(10)\n",
    "data = np.random.randint(1, 50, 10)\n",
    "print(data)"
   ]
  },
  {
   "cell_type": "markdown",
   "id": "95e838b7-8c49-4b23-a998-46aeb1ffbca9",
   "metadata": {},
   "source": [
    "### np.sort()\n",
    "- 데이터를 오름차순으로 정렬한다.\n",
    "- 내림차순으로 정렬하는 별도의 옵션은 없다."
   ]
  },
  {
   "cell_type": "code",
   "execution_count": 110,
   "id": "4977918e-5b2f-4f37-8d09-2a527f741148",
   "metadata": {},
   "outputs": [
    {
     "name": "stdout",
     "output_type": "stream",
     "text": [
      "[ 1  9 10 16 26 29 30 30 37]\n"
     ]
    }
   ],
   "source": [
    "print(np.sort(data)[:-1])"
   ]
  },
  {
   "cell_type": "markdown",
   "id": "b679ba68-3fc9-4e98-bed0-c07c338390e1",
   "metadata": {},
   "source": [
    "### np.argsort()\n",
    "- 오름차순으로 정렬한 데이터의 정렬 전 인덱스 값을 반환"
   ]
  },
  {
   "cell_type": "code",
   "execution_count": 111,
   "id": "7feb5956-5b8e-451d-8464-bd33aa767186",
   "metadata": {},
   "outputs": [
    {
     "name": "stdout",
     "output_type": "stream",
     "text": [
      "[3 9 0 2 5 4 6 8 1 7]\n"
     ]
    }
   ],
   "source": [
    "print(np.argsort(data))"
   ]
  },
  {
   "cell_type": "markdown",
   "id": "f14c3911-521d-4cdb-8a35-61bac22ece51",
   "metadata": {},
   "source": [
    "[문제] 학생 이름과 점수 데이터를 이용하여 성적이 우수한 학생 순서로 이름을 출력하세요."
   ]
  },
  {
   "cell_type": "code",
   "execution_count": 117,
   "id": "f70fe806-e92e-4117-b198-b0d5618436c4",
   "metadata": {},
   "outputs": [
    {
     "name": "stdout",
     "output_type": "stream",
     "text": [
      "['저팔계' '삼장법사' '사오정' '홍길동' '전우치']\n"
     ]
    }
   ],
   "source": [
    "name = ['홍길동', '저팔계', '사오정', '전우치', '삼장법사']\n",
    "score = [75, 100, 95, 56, 99]\n",
    "\n",
    "name = np.array(name)\n",
    "score = np.array(score)\n",
    "sorted_idx = np.argsort(score)\n",
    "print(name[sorted_idx][::-1])"
   ]
  },
  {
   "cell_type": "markdown",
   "id": "fe5788a9-057d-4253-953e-47719b39cc65",
   "metadata": {},
   "source": [
    "# 행렬연산"
   ]
  },
  {
   "cell_type": "markdown",
   "id": "06d487e0-f394-4607-a405-0a2aa5328eb9",
   "metadata": {},
   "source": [
    "## * 연산자\n",
    "- 형태(shape)가 동일한 두 행렬을 원소끼리 곱하는 연산자\n",
    "- 교환법칙 성립: A * B == B * A"
   ]
  },
  {
   "cell_type": "code",
   "execution_count": 119,
   "id": "5bf37687-a7d0-4f04-82b9-bb958a08a8fd",
   "metadata": {},
   "outputs": [
    {
     "name": "stdout",
     "output_type": "stream",
     "text": [
      "[[2 0]\n",
      " [0 4]]\n",
      "[[2 0]\n",
      " [0 4]]\n"
     ]
    }
   ],
   "source": [
    "import numpy as np\n",
    "\n",
    "a = np.array([[1,1], [0,1]])\n",
    "b = np.array([[2,0],[3,4]])\n",
    "print(a*b)\n",
    "print(b*a)  # 교환법칙 성립"
   ]
  },
  {
   "cell_type": "markdown",
   "id": "23400f7c-8f8b-4d0f-aa23-15502b4a15b5",
   "metadata": {},
   "source": [
    "## np.dot()\n",
    "- 두 벡터의 내적을 계산하는 함수\n",
    "    - 내적이란 벡터에서 서로 대응하는 성분끼리 곱한 다음 그것들을 모두 더한 것을 말하며, 내적 결과는 스칼라가 된다.\n",
    "    - a·b 또는 <a,b>로 표현: A1B1 + A2B2 + ... + AnBn\n",
    "- 행렬곱에서도 사용 가능하다. 단, 공식 문서에서는 np.matmul() 사용을 권장\n",
    "- 두 행렬의 행렬곱을 계산하기 위해서는 첫 번째 행렬의 열 크기와 두 번째 행렬의 행 크기가 같아야 한다."
   ]
  },
  {
   "cell_type": "code",
   "execution_count": 121,
   "id": "7a4af555-85ba-46e1-bd4f-957dca58450e",
   "metadata": {},
   "outputs": [
    {
     "name": "stdout",
     "output_type": "stream",
     "text": [
      "107\n"
     ]
    }
   ],
   "source": [
    "# 내적계산\n",
    "a = np.array([3,4,5,6,9])\n",
    "b = np.array([8,6,1,3,4])\n",
    "c = np.dot(a,b)  # 3*8 + 4*6 + ... + 9*4\n",
    "print(c)"
   ]
  },
  {
   "cell_type": "code",
   "execution_count": 124,
   "id": "20a21ac1-762c-48fb-9c3f-c11199a4f8c5",
   "metadata": {},
   "outputs": [
    {
     "name": "stdout",
     "output_type": "stream",
     "text": [
      "[[1 1]\n",
      " [0 1]]\n",
      "[[2 0]\n",
      " [3 4]]\n",
      "------------------------------\n",
      "[[5 4]\n",
      " [3 4]]\n",
      "[[2 2]\n",
      " [3 7]]\n"
     ]
    }
   ],
   "source": [
    "A = np.array([[1,1], [0,1]])\n",
    "B = np.array([[2,0],[3,4]])\n",
    "print(A)\n",
    "print(B)\n",
    "print('-'*30)\n",
    "\n",
    "print(np.dot(A,B))  # A.dot(B) 동일\n",
    "print(np.dot(B,A))  # 교환법칙 성립되지 않는다."
   ]
  },
  {
   "cell_type": "markdown",
   "id": "ddbb10c7-94e3-4fcf-8468-f9b80813dc9c",
   "metadata": {},
   "source": [
    "## np.matmul() / @ 연산자\n",
    "- 행렬의 곱연산을 수행"
   ]
  },
  {
   "cell_type": "code",
   "execution_count": 126,
   "id": "01bb7f7e-f2eb-4af9-b4bd-092c8bd8536f",
   "metadata": {},
   "outputs": [
    {
     "name": "stdout",
     "output_type": "stream",
     "text": [
      "[[5 4]\n",
      " [3 4]]\n",
      "[[10 10]\n",
      " [12 16]]\n"
     ]
    }
   ],
   "source": [
    "A = np.array([[1,1], [0,1]])\n",
    "B = np.array([[2,0],[3,4]])\n",
    "\n",
    "print(A@B)\n",
    "\n",
    "A = np.array([[1,0,3], [0,2,4]])  # 2x3\n",
    "B = np.array([[4,1], [2,2], [2,3]])  # 3x2\n",
    "print(np.matmul(A,B))"
   ]
  },
  {
   "cell_type": "markdown",
   "id": "2fe41e35-8067-42e3-8ed0-fedd073aa545",
   "metadata": {},
   "source": [
    "## dot() 과 matmul()의 차이\n",
    "- dot()은 행렬과 상수의 곱셈이 가능, matmul()은 에러 발생 (행렬 간의 곱만 가능)\n",
    "- 3차원 이상의 행렬곱(Tensor Multiplication)을 수행할 경우 결과가 다르다."
   ]
  },
  {
   "cell_type": "markdown",
   "id": "0cb8abfa-4ce1-4f58-8039-121915384a6c",
   "metadata": {},
   "source": [
    "## 전치(Transpose)\n",
    "- 전치는 기존 행렬의 행과 열을 교환하는 것\n",
    "- 주대각선을 기준으로 반사 대칭하는 것을 말한다.\n",
    "- np.transpose() 함수 또는 ndarray.T 속성을 사용한다."
   ]
  },
  {
   "cell_type": "code",
   "execution_count": 127,
   "id": "89dd0bbc-1753-45a1-8b48-25210d277b7b",
   "metadata": {},
   "outputs": [
    {
     "name": "stdout",
     "output_type": "stream",
     "text": [
      "[[1 2]\n",
      " [3 4]]\n",
      "------------------------------\n",
      "[[1 3]\n",
      " [2 4]]\n",
      "------------------------------\n",
      "[[1 3]\n",
      " [2 4]]\n"
     ]
    }
   ],
   "source": [
    "a = np.arange(1,5).reshape((2,2))\n",
    "b = a.T\n",
    "c = np.transpose(a)\n",
    "\n",
    "print(a)\n",
    "print('-'*30)\n",
    "print(b)\n",
    "print('-'*30)\n",
    "print(c)"
   ]
  },
  {
   "cell_type": "markdown",
   "id": "c7564473-b5c8-4956-a933-2fcb4394f036",
   "metadata": {},
   "source": [
    "# 인덱싱, 슬라이싱, 반복"
   ]
  },
  {
   "cell_type": "markdown",
   "id": "def03d15-dd9a-49fe-aa02-2fb256cb6bcb",
   "metadata": {},
   "source": [
    "## 인덱싱"
   ]
  },
  {
   "cell_type": "code",
   "execution_count": 132,
   "id": "8f9fa32b-3ac0-4b9d-9f6d-b64133c6a33d",
   "metadata": {},
   "outputs": [
    {
     "name": "stdout",
     "output_type": "stream",
     "text": [
      "1\n",
      "1\n",
      "1\n"
     ]
    }
   ],
   "source": [
    "import numpy as np\n",
    "\n",
    "a_list = [[1,2,3,4,5], [6,7,8,9,10]]\n",
    "print(a_list[0][0])\n",
    "# print(a_list[0,0])\n",
    "\n",
    "a_ndarray = np.array(a_list)\n",
    "print(a_ndarray[0][0])\n",
    "print(a_ndarray[0,0])"
   ]
  },
  {
   "cell_type": "markdown",
   "id": "625cf7f6-5c47-42ea-ad06-1c2cf89589aa",
   "metadata": {},
   "source": [
    "## Boolean Indexing (masking)"
   ]
  },
  {
   "cell_type": "code",
   "execution_count": 139,
   "id": "0e7ee90e-88eb-4a87-90b4-a8774e13d8ae",
   "metadata": {},
   "outputs": [
    {
     "name": "stdout",
     "output_type": "stream",
     "text": [
      "[[ 1  2  3  4  5  6]\n",
      " [ 7  8  9 10 11 12]\n",
      " [13 14 15 16 17 18]\n",
      " [19 20 21 22 23 24]]\n",
      "------------------------------\n",
      "[[False  True False  True False  True]\n",
      " [False  True False  True False  True]\n",
      " [False  True False  True False  True]\n",
      " [False  True False  True False  True]]\n",
      "------------------------------\n",
      "[ 2  4  6  8 10 12 14 16 18 20 22 24]\n",
      "------------------------------\n",
      "156\n",
      "------------------------------\n",
      "156\n",
      "------------------------------\n",
      "12\n"
     ]
    }
   ],
   "source": [
    "a = np.arange(1,25).reshape((4,6))\n",
    "print(a)\n",
    "print('-'*30)\n",
    "# a 배열에서 요소의 값이 짝수인 요소들의 총합은?\n",
    "even_arr = a % 2 == 0\n",
    "print(even_arr)\n",
    "print('-'*30)\n",
    "print(a[even_arr])\n",
    "print('-'*30)\n",
    "print(sum(a[even_arr]))\n",
    "print('-'*30)\n",
    "print(np.sum(a[a%2==0]))\n",
    "print('-'*30)\n",
    "print(np.sum(even_arr))   # True의 개수"
   ]
  },
  {
   "cell_type": "markdown",
   "id": "97413baf-e6ac-4edf-89be-02fed8ba9d94",
   "metadata": {},
   "source": [
    "## Fancy Indexing\n",
    "- 배열의 각 요소 선택을 `인덱스 배열을 전달하여` 참조하는 방식\n",
    "- 즉, 정수나 boolean 값을 가지는 다른 배열로 원본 배열의 값을 인덱싱하는 것을 의미한다.\n",
    "- Fancy Indexing은 복사본이 생성된다."
   ]
  },
  {
   "cell_type": "code",
   "execution_count": 144,
   "id": "0600202c-1695-40eb-8bcc-a9cbb7154cc2",
   "metadata": {},
   "outputs": [
    {
     "name": "stdout",
     "output_type": "stream",
     "text": [
      "[[ 0  1  2]\n",
      " [ 3  4  5]\n",
      " [ 6  7  8]\n",
      " [ 9 10 11]\n",
      " [12 13 14]]\n",
      "------------------------------\n",
      "0행, 2행만 인덱싱\n",
      "[[0 1 2]\n",
      " [6 7 8]]\n",
      "------------------------------\n",
      "전체 행에 대해 0열, 2열만 인덱싱\n",
      "[[ 0  2]\n",
      " [ 3  5]\n",
      " [ 6  8]\n",
      " [ 9 11]\n",
      " [12 14]]\n",
      "------------------------------\n",
      "정수 배열 [1,2]를 이용한 인덱싱\n",
      "[[3 4 5]\n",
      " [6 7 8]]\n",
      "------------------------------\n",
      "두 번 인덱싱\n",
      "[[ 0  2]\n",
      " [ 6  8]\n",
      " [12 14]]\n"
     ]
    }
   ],
   "source": [
    "a = np.arange(15).reshape((5,3))\n",
    "print(a)\n",
    "print('-'*30)\n",
    "\n",
    "print('0행, 2행만 인덱싱')\n",
    "print(a[[0,2],:])\n",
    "print('-'*30)\n",
    "\n",
    "print('전체 행에 대해 0열, 2열만 인덱싱')\n",
    "print(a[:, [0,2]])\n",
    "print('-'*30)\n",
    "\n",
    "print('정수 배열 [1,2]를 이용한 인덱싱')\n",
    "print(a[[1,2]])\n",
    "print('-'*30)\n",
    "\n",
    "print('두 번 인덱싱')\n",
    "print(a[[0,2,4]][:,[0,2]])  # 0,2,4 행에서 0,2열을 추출"
   ]
  },
  {
   "cell_type": "code",
   "execution_count": 148,
   "id": "b6cd30bb-1799-4892-9372-998a7eaa50c9",
   "metadata": {},
   "outputs": [
    {
     "name": "stdout",
     "output_type": "stream",
     "text": [
      "[[ 0  1  2]\n",
      " [ 3  4  5]\n",
      " [ 6  7  8]\n",
      " [ 9 10 11]\n",
      " [12 13 14]]\n",
      "------------------------------\n",
      "[[ 0  2]\n",
      " [ 6  8]\n",
      " [12 14]]\n",
      "------------------------------\n",
      "[[100 100]\n",
      " [100 100]\n",
      " [100 100]]\n",
      "------------------------------\n",
      "[[ 0  1  2]\n",
      " [ 3  4  5]\n",
      " [ 6  7  8]\n",
      " [ 9 10 11]\n",
      " [12 13 14]]\n"
     ]
    }
   ],
   "source": [
    "# 펜시 인덱싱은 복사본이 생성된다.\n",
    "a = np.arange(15).reshape((5,3))\n",
    "print(a)\n",
    "print('-'*30)\n",
    "\n",
    "copied = a[[0,2,4]][:,[0,2]]\n",
    "print(copied)\n",
    "print('-'*30)\n",
    "# 값 수정  -  원본에는 영향 X\n",
    "copied[0:] = 100\n",
    "print(copied)\n",
    "print('-'*30)\n",
    "\n",
    "print(a)"
   ]
  },
  {
   "cell_type": "markdown",
   "id": "d690cbaf-3c68-4a8f-9229-39b6f1d0722e",
   "metadata": {},
   "source": [
    "## 슬라이싱\n",
    "- ndarray[행 슬라이싱 시작:행 슬라이싱 끝, 열 슬라이싱 시작:열 슬라이싱 끝]\n",
    "- nupmy에서 슬라이싱은 동일한 메모리 영역의 뷰를 반환한다.\n",
    "- 즉, 뷰를 수정하면 원본 데이터도 변경된다."
   ]
  },
  {
   "cell_type": "code",
   "execution_count": 151,
   "id": "e6e92e49-a486-4e9a-ade4-c96546b996dd",
   "metadata": {},
   "outputs": [
    {
     "name": "stdout",
     "output_type": "stream",
     "text": [
      "[[ 1  2  3  4]\n",
      " [ 5  6  7  8]\n",
      " [ 9 10 11 12]]\n",
      "------------------------------\n",
      "[[1 2 3 4]\n",
      " [5 6 7 8]]\n",
      "------------------------------\n",
      "[[1 2 3 4]\n",
      " [5 6 7 8]]\n",
      "------------------------------\n",
      "[[1 2 3 4]\n",
      " [5 6 7 8]]\n"
     ]
    }
   ],
   "source": [
    "a = np.arange(1,13).reshape((3,4))\n",
    "print(a)\n",
    "print('-'*30)\n",
    "\n",
    "print(a[0:2, 0:4])\n",
    "print('-'*30)\n",
    "\n",
    "print(a[:2, :])  # 위와 동일\n",
    "print('-'*30)\n",
    "\n",
    "print(a[:2])  # 위와 동일"
   ]
  },
  {
   "cell_type": "code",
   "execution_count": 152,
   "id": "d6b9084a-5f13-44ee-be06-f316c6cbf587",
   "metadata": {},
   "outputs": [
    {
     "name": "stdout",
     "output_type": "stream",
     "text": [
      "[[1 2 3 4]]\n",
      "[[ 9 10 11 12]\n",
      " [ 5  6  7  8]\n",
      " [ 9 10 11 12]]\n"
     ]
    }
   ],
   "source": [
    "a_view = a[:1]\n",
    "print(a_view)\n",
    "a_view[0] = [9,10,11,12]\n",
    "print(a)"
   ]
  },
  {
   "cell_type": "markdown",
   "id": "72be348a-dccf-4070-8071-09f504e0fe99",
   "metadata": {},
   "source": [
    "[문제] 슬라이싱 실습"
   ]
  },
  {
   "cell_type": "code",
   "execution_count": 190,
   "id": "3592c478-0ab2-4d2d-aa55-52041bb16f4b",
   "metadata": {},
   "outputs": [
    {
     "name": "stdout",
     "output_type": "stream",
     "text": [
      "[[ 1  2  3  4  5  6]\n",
      " [ 7  8  9 10 11 12]\n",
      " [13 14 15 16 17 18]\n",
      " [19 20 21 22 23 24]]\n",
      "------------------------------\n",
      "[[ 8  9 10 11]\n",
      " [14 15 16 17]]\n",
      "------------------------------\n",
      "[[ 1  2  3  4  5  6]\n",
      " [ 7  8  9 10 11 12]]\n",
      "------------------------------\n",
      "[[ 2  3]\n",
      " [ 8  9]\n",
      " [14 15]\n",
      " [20 21]]\n",
      "------------------------------\n",
      "[[7 8]]\n",
      "------------------------------\n",
      "[[ 6]\n",
      " [12]\n",
      " [18]\n",
      " [24]]\n"
     ]
    }
   ],
   "source": [
    "import numpy as np\n",
    "\n",
    "origin = np.arange(1, 25).reshape((4,6))\n",
    "print(origin)\n",
    "print('-'*30)\n",
    "\n",
    "# 1. 가운데 요소 가져오기 ( 8-11, 14-17)\n",
    "print(origin[1:3, 1:5])\n",
    "print('-'*30)\n",
    "# 2. 0 - 1 행, 모든 컬럼 가져오기\n",
    "print(origin[:2])\n",
    "print('-'*30)\n",
    "# 3. 전체 행, 1,2열 가져오기\n",
    "print(origin[:,1:3])\n",
    "print('-'*30)\n",
    "# 4. 1행, 0,1열 가져오기\n",
    "print(origin[1:2, :2])\n",
    "print('-'*30)\n",
    "# 5. 각 행의 마지막 열 데이터만 추출해서 2차원 열벡터로 변경하기\n",
    "print(origin[:,-1].reshape(-1,1))"
   ]
  },
  {
   "cell_type": "markdown",
   "id": "8eb8f30f-37f5-4089-a436-7f765af3a770",
   "metadata": {},
   "source": [
    "## 인덱싱 & 슬라이싱 그리고 차원\n",
    "- 정수 인덱싱과 슬라이싱을 혼합해서 사용하면 낮은 차원의 배열이 생성되지만\n",
    "- 슬라이싱만 사용하면 원본 배열과 같은 차원의 배열이 생성된다."
   ]
  },
  {
   "cell_type": "code",
   "execution_count": 202,
   "id": "1100234e-7e20-4b8a-a10f-24c447c99545",
   "metadata": {},
   "outputs": [
    {
     "name": "stdout",
     "output_type": "stream",
     "text": [
      "[[ 1  2  3  4]\n",
      " [ 5  6  7  8]\n",
      " [ 9 10 11 12]] (3, 4) 2\n",
      "------------------------------\n",
      "슬라이싱 이용\n",
      "[[1 2 3 4]] (1, 4) 2\n",
      "------------------------------\n",
      "인덱싱만 사용\n",
      "[1 2 3 4] (4,) 1\n",
      "------------------------------\n",
      "인덱싱 & 슬라이싱 혼합 사용\n",
      "[1 2 3 4] (4,) 1\n",
      "------------------------------\n",
      "펜시 인덱싱(<--->정수 인덱싱) 사용\n",
      "[[ 1  2  3  4]\n",
      " [ 9 10 11 12]]\n"
     ]
    }
   ],
   "source": [
    "a = np.arange(1,13).reshape((3,4))\n",
    "print(a, a.shape, a.ndim)\n",
    "print('-'*30)\n",
    "\n",
    "print('슬라이싱 이용')\n",
    "b = a[:1,:]\n",
    "print(b, b.shape, b.ndim)\n",
    "print('-'*30)\n",
    "\n",
    "print('인덱싱만 사용')\n",
    "c = a[0]\n",
    "print(c, c.shape, c.ndim)\n",
    "print('-'*30)\n",
    "\n",
    "print('인덱싱 & 슬라이싱 혼합 사용')\n",
    "d = a[0,:]\n",
    "print(d, d.shape, d.ndim)\n",
    "print('-'*30)\n",
    "\n",
    "print('펜시 인덱싱(<--->정수 인덱싱) 사용')\n",
    "# 펜시 인덱싱을 사용하면 원본 배열과 동일한 차원의 배열이 생성된다.\n",
    "print(a[[0,2], :])"
   ]
  },
  {
   "attachments": {
    "c506138d-6e5d-4194-a81a-8a3b1c26be37.png": {
     "image/png": "[encoded data removed]"
    }
   },
   "cell_type": "markdown",
   "id": "58116341-7797-402b-b3dd-bfa87bf611b6",
   "metadata": {},
   "source": [
    "# Broadcasting\n",
    "- shape이 다른 numpy 배열이 연산을 하려고 할 때 특정 조건이 만족되면 자동으로 연산이 가능한 형태로 변환되는 것\n",
    "- numpy에서 vector나 martix 간에 연산을 하면 같은 위치의 원소끼리 계산이 이루어진다.\n",
    "- 이렇게 되려면 계산하려는 vector나 matrix가 형태가 같아야 하는데, 이 때 shape이 맞춰지는 것을 broadcasting이라고 한다.\n",
    "\n",
    "![broadcasting.png](attachment:c506138d-6e5d-4194-a81a-8a3b1c26be37.png)"
   ]
  },
  {
   "cell_type": "markdown",
   "id": "0ed55c05-7391-4fea-abac-bee264620514",
   "metadata": {},
   "source": [
    "# random 모듈"
   ]
  },
  {
   "cell_type": "markdown",
   "id": "61ab1c0b-af2f-478a-a86a-c83b9bac4416",
   "metadata": {},
   "source": [
    "## np.random.rand()\n",
    "- 0 이상 1 미만의 균등분포 난수 생성\n",
    "- shape을 전달하면 그 크기에 맞는 다차원 배열을 생성한다."
   ]
  },
  {
   "cell_type": "code",
   "execution_count": 203,
   "id": "9adb279f-8b9f-48bb-a415-4f7fb5fd1079",
   "metadata": {},
   "outputs": [
    {
     "name": "stdout",
     "output_type": "stream",
     "text": [
      "0.265566126772097\n",
      "[0.26360285 0.15037787 0.68381843]\n",
      "[[0.81660184 0.33607158 0.89081653 0.19812181]\n",
      " [0.03061665 0.87761494 0.72743551 0.54088093]\n",
      " [0.13145815 0.41366737 0.77872881 0.58390137]]\n"
     ]
    }
   ],
   "source": [
    "a = np.random.rand()  # 난수 1개 생성\n",
    "print(a)\n",
    "b = np.random.rand(3)  # 1차원 벡터 생성\n",
    "print(b)\n",
    "c = np.random.rand(3,4)  # 2차원 행렬 생성\n",
    "print(c)"
   ]
  },
  {
   "cell_type": "code",
   "execution_count": 204,
   "id": "862a5b28-af0e-4311-9615-dbe614943a5b",
   "metadata": {},
   "outputs": [
    {
     "data": {
      "image/png": "[encoded data removed]",
      "text/plain": [
       "<Figure size 640x480 with 1 Axes>"
      ]
     },
     "metadata": {},
     "output_type": "display_data"
    }
   ],
   "source": [
    "import matplotlib.pyplot as plt\n",
    "\n",
    "np.random.seed(0)\n",
    "a = np.random.rand(100000)\n",
    "plt.hist(a, bins=100)\n",
    "plt.show()"
   ]
  },
  {
   "cell_type": "markdown",
   "id": "dc54b310-e6e2-449b-b025-4c00988998e1",
   "metadata": {},
   "source": [
    "## np.random.randint()\n",
    "- 주어진 범위의 균등분포의 임의의 정수 난수 발생"
   ]
  },
  {
   "cell_type": "code",
   "execution_count": 231,
   "id": "eda2051e-816f-4978-9540-3572869095cc",
   "metadata": {},
   "outputs": [
    {
     "name": "stdout",
     "output_type": "stream",
     "text": [
      "[3 3 2]\n",
      "[[3 3 4]\n",
      " [2 2 3]\n",
      " [2 2 1]]\n"
     ]
    }
   ],
   "source": [
    "# a = np.random.randint(3) # [0,3) 범위의 임의의 정수 1개 생성 \n",
    "# print(a)\n",
    "\n",
    "# b = np.random.randint(1,5)  # [1,5) 범위의 임의의 정수 1개 생성\n",
    "# print(b)\n",
    "\n",
    "c = np.random.randint(1, 5, 3)  # [1,5) 범위의 임의의 정수 3개 생성\n",
    "print(c)\n",
    "\n",
    "d = np.random.randint(1, 5, size=(3,3))  # [1,5) 범위의 임의의 정수 3개 생성\n",
    "print(d)"
   ]
  },
  {
   "cell_type": "markdown",
   "id": "191a3b65-46f2-480e-a830-97229ae7f444",
   "metadata": {},
   "source": [
    "## np.random.randn()\n",
    "- 표준정규분포(평균은 0, 표준편차는 1로 이루어진 데이터)로부터 샘플링된 난수를 발생한다."
   ]
  },
  {
   "cell_type": "code",
   "execution_count": 233,
   "id": "3825f6f0-1ace-4dc2-bcf2-20d2eae1edb3",
   "metadata": {},
   "outputs": [
    {
     "name": "stdout",
     "output_type": "stream",
     "text": [
      "-0.06253123740554203\n",
      "[-0.36495863  0.59222921 -0.93267195]\n",
      "[[ 2.15282833  1.22426107  0.47551334  0.11462049]\n",
      " [-2.09590558  0.57067353  1.50247391 -1.29819638]\n",
      " [-1.02886646  0.39946156 -0.20901363  0.1827224 ]]\n"
     ]
    }
   ],
   "source": [
    "a = np.random.randn()  # 난수 1개 발생\n",
    "print(a)\n",
    "\n",
    "b = np.random.randn(3)  # 1차원 배열 생성\n",
    "print(b)\n",
    "\n",
    "c = np.random.randn(3,4)  # 2차원 배열 생성\n",
    "print(c)"
   ]
  },
  {
   "cell_type": "code",
   "execution_count": 236,
   "id": "ddd70c02-b282-4f84-a2ac-3628762e5526",
   "metadata": {},
   "outputs": [
    {
     "data": {
      "image/png": "[encoded data removed]",
      "text/plain": [
       "<Figure size 640x480 with 1 Axes>"
      ]
     },
     "metadata": {},
     "output_type": "display_data"
    },
    {
     "name": "stdout",
     "output_type": "stream",
     "text": [
      "1.0025624719124755 0.004249359154947806\n"
     ]
    }
   ],
   "source": [
    "a = np.random.randn(100000)\n",
    "plt.hist(a, bins=100, density=True)\n",
    "plt.show()\n",
    "print(np.std(a), np.mean(a))"
   ]
  },
  {
   "cell_type": "markdown",
   "id": "ede14b20-daaf-4416-b55f-530987933993",
   "metadata": {},
   "source": [
    "## np.random.choice()\n",
    "- 주어진 1차원 행렬에서 랜덤으로 샘플링 한다.\n",
    "- replace = False 중복 샘플링을 하지 않는다. (default는 replace = True)"
   ]
  },
  {
   "cell_type": "code",
   "execution_count": 3,
   "id": "fc0f0905-a9a5-452c-9273-756412d904c9",
   "metadata": {},
   "outputs": [
    {
     "name": "stdout",
     "output_type": "stream",
     "text": [
      "[16 94 65]\n"
     ]
    }
   ],
   "source": [
    "import numpy as np\n",
    "np.random.seed(10)\n",
    "data = np.random.randint(1, 101, 10)\n",
    "r = np. random.choice(data, size=(3,), replace=False)\n",
    "print(r)"
   ]
  }
 ],
 "metadata": {
  "kernelspec": {
   "display_name": "Python 3 (ipykernel)",
   "language": "python",
   "name": "python3"
  },
  "language_info": {
   "codemirror_mode": {
    "name": "ipython",
    "version": 3
   },
   "file_extension": ".py",
   "mimetype": "text/x-python",
   "name": "python",
   "nbconvert_exporter": "python",
   "pygments_lexer": "ipython3",
   "version": "3.11.7"
  }
 },
 "nbformat": 4,
 "nbformat_minor": 5
}
